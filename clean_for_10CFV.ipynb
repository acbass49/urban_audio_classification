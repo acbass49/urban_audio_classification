{
  "cells": [
    {
      "cell_type": "markdown",
      "metadata": {
        "id": "tfUAirNER6Ky"
      },
      "source": [
        "# Initial Model - All Features"
      ]
    },
    {
      "cell_type": "markdown",
      "metadata": {
        "id": "_uvrGLfoR6mg"
      },
      "source": [
        "## Set up"
      ]
    },
    {
      "cell_type": "code",
      "execution_count": 1,
      "metadata": {
        "id": "uvknLY1rR0Ox"
      },
      "outputs": [
        {
          "name": "stderr",
          "output_type": "stream",
          "text": [
            "2022-11-18 23:25:05.100468: I tensorflow/core/platform/cpu_feature_guard.cc:193] This TensorFlow binary is optimized with oneAPI Deep Neural Network Library (oneDNN) to use the following CPU instructions in performance-critical operations:  AVX2 AVX512F AVX512_VNNI FMA\n",
            "To enable them in other operations, rebuild TensorFlow with the appropriate compiler flags.\n"
          ]
        }
      ],
      "source": [
        "### Load necessary libraries ###\n",
        "import glob\n",
        "import os\n",
        "import librosa\n",
        "import numpy as np\n",
        "from sklearn.model_selection import KFold\n",
        "from sklearn.metrics import accuracy_score\n",
        "\n",
        "import tensorflow as tf\n",
        "from tensorflow import keras\n",
        "from tensorflow.keras.models import Sequential\n",
        "from tensorflow.keras.layers import Conv2D, Flatten, Dense, MaxPool2D, Dropout\n",
        "\n",
        "import pandas as pd\n",
        "import matplotlib.pyplot as plt\n",
        "from tqdm import tqdm\n",
        "\n",
        "from librosa import display\n",
        "import librosa"
      ]
    },
    {
      "cell_type": "markdown",
      "metadata": {
        "id": "HbRBBMWNQwP1"
      },
      "source": [
        "### Cleaning - Combining into 1 dataset for 10-fold Crossvalidation"
      ]
    },
    {
      "cell_type": "code",
      "execution_count": 28,
      "metadata": {},
      "outputs": [],
      "source": [
        "#loading metadata\n",
        "data=pd.read_csv(\"UrbanSound8K/metadata/UrbanSound8K.csv\")"
      ]
    },
    {
      "cell_type": "code",
      "execution_count": 29,
      "metadata": {},
      "outputs": [
        {
          "name": "stderr",
          "output_type": "stream",
          "text": [
            "100%|██████████| 8732/8732 [00:01<00:00, 4785.66it/s]\n"
          ]
        }
      ],
      "source": [
        "path=\"UrbanSound8K/audio/fold\"\n",
        "folds=[]\n",
        "for i in tqdm(range(len(data))):\n",
        "    fold_no=str(data.iloc[i][\"fold\"])\n",
        "    folds.append(fold_no)\n"
      ]
    },
    {
      "cell_type": "code",
      "execution_count": 30,
      "metadata": {},
      "outputs": [],
      "source": [
        "count_10 = len([x for x in folds if x=='10'])\n",
        "other_indxs = [x for x in folds if x!='10']\n",
        "tens = ['10']*count_10\n",
        "folds = other_indxs+tens\n",
        "folds = [int(x) for x in folds]"
      ]
    },
    {
      "cell_type": "code",
      "execution_count": 31,
      "metadata": {},
      "outputs": [],
      "source": [
        "#saving the data numpy arrays\n",
        "x_train = pd.read_csv(\"allFeaturesData/train_data.csv\")\n",
        "x_test = pd.read_csv(\"allFeaturesData/test_data.csv\")\n",
        "y_train = pd.read_csv(\"allFeaturesData/train_labels.csv\")\n",
        "y_test = pd.read_csv(\"allFeaturesData/test_labels.csv\")"
      ]
    },
    {
      "cell_type": "code",
      "execution_count": 32,
      "metadata": {},
      "outputs": [],
      "source": [
        "X=pd.concat([x_train, x_test])\n",
        "Y=pd.concat([y_train,y_test])\n",
        "\n",
        "np.savetxt(\"allFeaturesData/All_X.csv\", X.to_numpy(), delimiter=\",\")\n",
        "np.savetxt(\"allFeaturesData/All_Y.csv\",Y.to_numpy(),delimiter=\",\")\n",
        "np.savetxt(\"allFeaturesData/All_folds.csv\",np.asarray(folds),delimiter=\",\")"
      ]
    },
    {
      "cell_type": "code",
      "execution_count": null,
      "metadata": {},
      "outputs": [],
      "source": [
        "# For Reading in the data for the models\n",
        "\n",
        "All_X = pd.read_csv(\"allFeaturesData/All_X.csv\").to_numpy().reshape(8732, 40, 5, 1)\n",
        "All_Y = pd.read_csv(\"allFeaturesData/All_Y.csv\").to_numpy().reshape(8732,)\n",
        "All_folds = pd.read_csv(\"allFeaturesData/All_folds.csv\").to_numpy().reshape(8732,)"
      ]
    }
  ],
  "metadata": {
    "colab": {
      "provenance": []
    },
    "kernelspec": {
      "display_name": "Python 3.9.7 64-bit",
      "language": "python",
      "name": "python3"
    },
    "language_info": {
      "codemirror_mode": {
        "name": "ipython",
        "version": 3
      },
      "file_extension": ".py",
      "mimetype": "text/x-python",
      "name": "python",
      "nbconvert_exporter": "python",
      "pygments_lexer": "ipython3",
      "version": "3.9.7"
    },
    "vscode": {
      "interpreter": {
        "hash": "397704579725e15f5c7cb49fe5f0341eb7531c82d19f2c29d197e8b64ab5776b"
      }
    }
  },
  "nbformat": 4,
  "nbformat_minor": 0
}
