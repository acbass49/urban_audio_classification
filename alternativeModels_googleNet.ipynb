{
 "cells": [
  {
   "cell_type": "markdown",
   "id": "e485411f-c6e4-4d83-86fd-b4cdeec684a8",
   "metadata": {},
   "source": [
    "# Alternative Models - Full GoogLeNet Architecture"
   ]
  },
  {
   "cell_type": "markdown",
   "id": "dd9b8ebf-d266-4137-b1ed-368506ba5514",
   "metadata": {},
   "source": [
    "### Set up"
   ]
  },
  {
   "cell_type": "code",
   "execution_count": 1,
   "id": "1e861af1-cf4b-4202-828d-152cfc794623",
   "metadata": {},
   "outputs": [
    {
     "name": "stderr",
     "output_type": "stream",
     "text": [
      "C:\\Users\\EmmaC\\anaconda3\\lib\\site-packages\\paramiko\\transport.py:219: CryptographyDeprecationWarning: Blowfish has been deprecated\n",
      "  \"class\": algorithms.Blowfish,\n"
     ]
    }
   ],
   "source": [
    "### Load necessary libraries ###\n",
    "import glob\n",
    "import os\n",
    "import librosa\n",
    "import numpy as np\n",
    "from sklearn.model_selection import KFold\n",
    "from sklearn.metrics import accuracy_score\n",
    "\n",
    "import tensorflow as tf\n",
    "from tensorflow import keras\n",
    "from tensorflow.keras.models import Sequential\n",
    "from tensorflow.keras.layers import Conv2D, Flatten, Dense, MaxPool2D, Dropout, Input\n",
    "from keras.models import Model\n",
    "\n",
    "import pandas as pd\n",
    "import matplotlib.pyplot as plt\n",
    "from tqdm import tqdm\n",
    "\n",
    "from librosa import display\n",
    "import librosa"
   ]
  },
  {
   "cell_type": "code",
   "execution_count": 2,
   "id": "90e154c7-bd9d-470c-8c76-2d9af61ae316",
   "metadata": {},
   "outputs": [],
   "source": [
    "x_train = pd.read_csv(\"allFeaturesData/train_data.csv\").to_numpy().reshape(7894, 40, 5, 1)\n",
    "x_test = pd.read_csv(\"allFeaturesData/test_data.csv\").to_numpy().reshape(836, 40, 5, 1)\n",
    "y_train = pd.read_csv(\"allFeaturesData/train_labels.csv\").to_numpy().reshape(7894,)\n",
    "y_test = pd.read_csv(\"allFeaturesData/test_labels.csv\").to_numpy().reshape(836,)"
   ]
  },
  {
   "cell_type": "code",
   "execution_count": 3,
   "id": "eaa7d537-5dde-4dd6-a4da-88dabd035507",
   "metadata": {},
   "outputs": [],
   "source": [
    "pool_size = (2, 2)\n",
    "kernel_size = (3, 3)\n",
    "input_shape = (40, 5, 1)\n",
    "num_classes = 10"
   ]
  },
  {
   "cell_type": "code",
   "execution_count": 4,
   "id": "f9777d09-fb69-4bdf-b57a-4219f28e035f",
   "metadata": {},
   "outputs": [],
   "source": [
    "# # model\n",
    "# model = keras.Sequential()\n",
    "# model.add(keras.layers.Conv2D(filters=6, kernel_size=(3, 3), activation='relu', input_shape=(40,5,1),padding='same'))\n",
    "# model.add(keras.layers.AveragePooling2D(padding='same'))\n",
    "# model.add(keras.layers.Conv2D(filters=16, kernel_size=(3, 3), activation='relu',padding='same'))\n",
    "# model.add(keras.layers.AveragePooling2D(padding='same'))\n",
    "# model.add(keras.layers.Flatten())\n",
    "# model.add(keras.layers.Dense(units=120, activation='relu'))\n",
    "# model.add(keras.layers.Dense(units=84, activation='relu'))\n",
    "# model.add(keras.layers.Dense(units=10, activation = 'softmax'))\n",
    "\n",
    "\n",
    "# optimizer = keras.optimizers.Adam(lr=1e-4)\n",
    "# model.compile(optimizer = optimizer, loss = 'sparse_categorical_crossentropy', metrics = ['accuracy'])"
   ]
  },
  {
   "cell_type": "code",
   "execution_count": 5,
   "id": "8f432285-6e01-40b3-8b11-6f6c67187c64",
   "metadata": {},
   "outputs": [],
   "source": [
    "# keras.backend.clear_session()\n",
    "# model.fit(x_train, y_train, epochs = 50, batch_size = 50, validation_data = (x_test, y_test))"
   ]
  },
  {
   "cell_type": "code",
   "execution_count": 6,
   "id": "0be6d5bf-3454-48f0-81ab-0b6422732e9e",
   "metadata": {},
   "outputs": [],
   "source": [
    "# predictions = model.predict(x_test)\n",
    "# predictions = np.apply_along_axis(lambda x : list(x).index(max(x)),1, predictions)\n",
    "# predictions.shape"
   ]
  },
  {
   "cell_type": "code",
   "execution_count": 7,
   "id": "1a9b3d87-6e97-46e6-9641-4820ec8cad9d",
   "metadata": {},
   "outputs": [],
   "source": [
    "# pd.DataFrame({\n",
    "#     \"prediction\" : predictions,\n",
    "#     \"actual\" : y_test\n",
    "# }).groupby(\"actual\") \\\n",
    "#     .apply(lambda x:x[\"prediction\"]==x[\"actual\"]) \\\n",
    "#     .groupby(\"actual\") \\\n",
    "#     .agg(Accuracy = 'mean') \\\n",
    "#     .reset_index() \\\n",
    "#     .assign(names=[\n",
    "#         \"air_conditioner\",\n",
    "#         \"car_horn\",\n",
    "#         \"children_playing\",\n",
    "#         \"dog_bark\",\n",
    "#         \"drilling\",\n",
    "#         \"engine_idling\",\n",
    "#         \"gun_shot\",\n",
    "#         \"jackhammer\",\n",
    "#         \"siren\",\n",
    "#         \"street_music\"\n",
    "#     ])"
   ]
  },
  {
   "cell_type": "markdown",
   "id": "38168fac-f614-43e7-80b3-d17c2be12130",
   "metadata": {},
   "source": [
    "### GoogleNet"
   ]
  },
  {
   "cell_type": "code",
   "execution_count": 8,
   "id": "cba958ac-7c41-4620-bf69-cff729338b27",
   "metadata": {},
   "outputs": [],
   "source": [
    "from keras.models import Model\n",
    "from keras.layers import Input, Conv2D, MaxPooling2D, AveragePooling2D, Flatten, GlobalAveragePooling2D, Dense, Dropout\n",
    "from tensorflow.keras.layers import concatenate\n",
    "import cv2 \n",
    "from keras.utils import np_utils"
   ]
  },
  {
   "cell_type": "code",
   "execution_count": 9,
   "id": "122c32f2-5599-4139-bf4b-8afa4c198b18",
   "metadata": {},
   "outputs": [],
   "source": [
    "img_rows = 224\n",
    "img_cols = 224"
   ]
  },
  {
   "cell_type": "code",
   "execution_count": 10,
   "id": "8bf47da5-f9b0-4d80-ada6-9157838437a8",
   "metadata": {},
   "outputs": [],
   "source": [
    "# Resize training images\n",
    "x_train = np.array([cv2.resize(img, (img_rows,img_cols),3) for img in x_train[:,:,:,:]])\n",
    "x_test = np.array([cv2.resize(img, (img_rows,img_cols),3) for img in x_test[:,:,:,:]])\n",
    "# np_array.reshape((im_height, im_width, 3))"
   ]
  },
  {
   "cell_type": "code",
   "execution_count": 11,
   "id": "8850702e-fa3c-4723-8396-150b2e1260d6",
   "metadata": {},
   "outputs": [
    {
     "data": {
      "text/plain": [
       "(7894, 224, 224)"
      ]
     },
     "execution_count": 11,
     "metadata": {},
     "output_type": "execute_result"
    }
   ],
   "source": [
    "x_train.shape"
   ]
  },
  {
   "cell_type": "code",
   "execution_count": 12,
   "id": "1aa226bf-08e4-41e0-82d8-a54d3e5b4a47",
   "metadata": {},
   "outputs": [],
   "source": [
    "x_train = np.expand_dims(x_train, axis=-1)\n",
    "x_test = np.expand_dims(x_test, axis=-1)"
   ]
  },
  {
   "cell_type": "code",
   "execution_count": 13,
   "id": "fc4fec82-6484-4d85-9ea4-fcdb71878998",
   "metadata": {},
   "outputs": [
    {
     "data": {
      "text/plain": [
       "(7894, 224, 224, 1)"
      ]
     },
     "execution_count": 13,
     "metadata": {},
     "output_type": "execute_result"
    }
   ],
   "source": [
    "x_train.shape"
   ]
  },
  {
   "cell_type": "code",
   "execution_count": 14,
   "id": "dbb2d986-79dc-4a14-b400-4d03844e1b16",
   "metadata": {},
   "outputs": [],
   "source": [
    "# x_train = np.array([cv2.resize(img, (img_rows,img_cols),3) for img in x_train[:,:,:,:]])\n",
    "z = np.zeros(x_train.shape[:-1] + (2,), dtype=x_train.dtype)\n",
    "x_train = np.concatenate((x_train, z), axis=-1)"
   ]
  },
  {
   "cell_type": "code",
   "execution_count": 15,
   "id": "dfed47e9-5d12-4899-a150-66b7fd6c3c6e",
   "metadata": {},
   "outputs": [],
   "source": [
    "# x_train = np.array([cv2.resize(img, (img_rows,img_cols),3) for img in x_train[:,:,:,:]])\n",
    "z = np.zeros(x_test.shape[:-1] + (2,), dtype=x_test.dtype)\n",
    "x_test = np.concatenate((x_test, z), axis=-1)"
   ]
  },
  {
   "cell_type": "code",
   "execution_count": 16,
   "id": "04369ec4-d13b-4ba9-be32-302ff36028c8",
   "metadata": {},
   "outputs": [
    {
     "data": {
      "text/plain": [
       "(7894, 224, 224, 3)"
      ]
     },
     "execution_count": 16,
     "metadata": {},
     "output_type": "execute_result"
    }
   ],
   "source": [
    "x_train.shape"
   ]
  },
  {
   "cell_type": "code",
   "execution_count": 17,
   "id": "dbf93138-ce33-4cd2-96b0-8c967c4a6a69",
   "metadata": {},
   "outputs": [
    {
     "data": {
      "text/plain": [
       "(836, 224, 224, 3)"
      ]
     },
     "execution_count": 17,
     "metadata": {},
     "output_type": "execute_result"
    }
   ],
   "source": [
    "x_test.shape"
   ]
  },
  {
   "cell_type": "code",
   "execution_count": 18,
   "id": "feffae02-1d3d-4983-9030-ffbd8b05e598",
   "metadata": {},
   "outputs": [],
   "source": [
    "# Transform targets to keras compatible format\n",
    "y_train = np_utils.to_categorical(y_train, num_classes)\n",
    "y_test = np_utils.to_categorical(y_test, num_classes)\n",
    "\n",
    "x_train = x_train.astype('float32')\n",
    "x_test = x_test.astype('float32')\n",
    "\n",
    "# preprocess data\n",
    "x_train = x_train / 255.0\n",
    "x_test = x_test / 255.0"
   ]
  },
  {
   "cell_type": "code",
   "execution_count": 19,
   "id": "cd1b6c6b-6af7-4b5c-88d2-6c89ed67fc41",
   "metadata": {},
   "outputs": [],
   "source": [
    "def Inception_block(input_layer, f1, f2_conv1, f2_conv3, f3_conv1, f3_conv5, f4): \n",
    "  # Input: \n",
    "  # - f1: number of filters of the 1x1 convolutional layer in the first path\n",
    "  # - f2_conv1, f2_conv3 are number of filters corresponding to the 1x1 and 3x3 convolutional layers in the second path\n",
    "  # - f3_conv1, f3_conv5 are the number of filters corresponding to the 1x1 and 5x5  convolutional layer in the third path\n",
    "  # - f4: number of filters of the 1x1 convolutional layer in the fourth path\n",
    "\n",
    "  # 1st path:\n",
    "  path1 = Conv2D(filters=f1, kernel_size = (1,1), padding = 'same', activation = 'relu')(input_layer)\n",
    "\n",
    "  # 2nd path\n",
    "  path2 = Conv2D(filters = f2_conv1, kernel_size = (1,1), padding = 'same', activation = 'relu')(input_layer)\n",
    "  path2 = Conv2D(filters = f2_conv3, kernel_size = (3,3), padding = 'same', activation = 'relu')(path2)\n",
    "\n",
    "  # 3rd path\n",
    "  path3 = Conv2D(filters = f3_conv1, kernel_size = (1,1), padding = 'same', activation = 'relu')(input_layer)\n",
    "  path3 = Conv2D(filters = f3_conv5, kernel_size = (5,5), padding = 'same', activation = 'relu')(path3)\n",
    "\n",
    "  # 4th path\n",
    "  path4 = MaxPooling2D((3,3), strides= (1,1), padding = 'same')(input_layer)\n",
    "  path4 = Conv2D(filters = f4, kernel_size = (1,1), padding = 'same', activation = 'relu')(path4)\n",
    "\n",
    "  output_layer = concatenate([path1, path2, path3, path4], axis = -1)\n",
    "\n",
    "  return output_layer\n"
   ]
  },
  {
   "cell_type": "code",
   "execution_count": 20,
   "id": "cd19c882-ee77-41db-961c-1cf8116439e6",
   "metadata": {},
   "outputs": [],
   "source": [
    "def GoogLeNet():\n",
    "  # input layer \n",
    "    input_layer = Input(shape = (224, 224, 3))\n",
    "    # input_layer = Input(shape=(40, 5, 1))\n",
    "\n",
    "  # convolutional layer: filters = 64, kernel_size = (7,7), strides = 2\n",
    "    # X = Conv2D(filters = 64, kernel_size = (7,7), strides = 2, padding = 'valid', activation = 'relu')(input_layer)\n",
    "    X = Conv2D(64, (7, 7), padding='same', strides=(2, 2), activation='relu', name='conv_1_7x7/2')(input_layer)\n",
    "\n",
    "    # max-pooling layer: pool_size = (3,3), strides = 2\n",
    "    X = MaxPooling2D(pool_size = (3,3), strides = 2)(X)\n",
    "\n",
    "    # convolutional layer: filters = 64, strides = 1\n",
    "    X = Conv2D(filters = 64, kernel_size = (1,1), strides = 1, padding = 'same', activation = 'relu')(X)\n",
    "\n",
    "    # convolutional layer: filters = 192, kernel_size = (3,3)\n",
    "    X = Conv2D(filters = 192, kernel_size = (3,3), padding = 'same', activation = 'relu')(X)\n",
    "\n",
    "    # max-pooling layer: pool_size = (3,3), strides = 2\n",
    "    X = MaxPooling2D(pool_size= (3,3), strides = 2)(X)\n",
    "\n",
    "    # 1st Inception block\n",
    "    X = Inception_block(X, f1 = 64, f2_conv1 = 96, f2_conv3 = 128, f3_conv1 = 16, f3_conv5 = 32, f4 = 32)\n",
    "\n",
    "    # 2nd Inception block\n",
    "    X = Inception_block(X, f1 = 128, f2_conv1 = 128, f2_conv3 = 192, f3_conv1 = 32, f3_conv5 = 96, f4 = 64)\n",
    "\n",
    "    # max-pooling layer: pool_size = (3,3), strides = 2\n",
    "    X = MaxPooling2D(pool_size= (3,3), strides = 2)(X)\n",
    "\n",
    "    # 3rd Inception block\n",
    "    X = Inception_block(X, f1 = 192, f2_conv1 = 96, f2_conv3 = 208, f3_conv1 = 16, f3_conv5 = 48, f4 = 64)\n",
    "\n",
    "    # Extra network 1:\n",
    "    X1 = AveragePooling2D(pool_size = (5,5), strides = 3)(X)\n",
    "    X1 = Conv2D(filters = 128, kernel_size = (1,1), padding = 'same', activation = 'relu')(X1)\n",
    "    X1 = Flatten()(X1)\n",
    "    X1 = Dense(1024, activation = 'relu')(X1)\n",
    "    X1 = Dropout(0.7)(X1)\n",
    "    X1 = Dense(10, activation = 'softmax')(X1)\n",
    "\n",
    "\n",
    "    # 4th Inception block\n",
    "    X = Inception_block(X, f1 = 160, f2_conv1 = 112, f2_conv3 = 224, f3_conv1 = 24, f3_conv5 = 64, f4 = 64)\n",
    "\n",
    "    # 5th Inception block\n",
    "    X = Inception_block(X, f1 = 128, f2_conv1 = 128, f2_conv3 = 256, f3_conv1 = 24, f3_conv5 = 64, f4 = 64)\n",
    "\n",
    "    # 6th Inception block\n",
    "    X = Inception_block(X, f1 = 112, f2_conv1 = 144, f2_conv3 = 288, f3_conv1 = 32, f3_conv5 = 64, f4 = 64)\n",
    "\n",
    "    # Extra network 2:\n",
    "    X2 = AveragePooling2D(pool_size = (5,5), strides = 3)(X)\n",
    "    X2 = Conv2D(filters = 128, kernel_size = (1,1), padding = 'same', activation = 'relu')(X2)\n",
    "    X2 = Flatten()(X2)\n",
    "    X2 = Dense(1024, activation = 'relu')(X2)\n",
    "    X2 = Dropout(0.7)(X2)\n",
    "    X2 = Dense(10, activation = 'softmax')(X2)\n",
    "\n",
    "\n",
    "    # 7th Inception block\n",
    "    X = Inception_block(X, f1 = 256, f2_conv1 = 160, f2_conv3 = 320, f3_conv1 = 32, \n",
    "                      f3_conv5 = 128, f4 = 128)\n",
    "\n",
    "    # max-pooling layer: pool_size = (3,3), strides = 2\n",
    "    X = MaxPooling2D(pool_size = (3,3), strides = 2)(X)\n",
    "\n",
    "    # 8th Inception block\n",
    "    X = Inception_block(X, f1 = 256, f2_conv1 = 160, f2_conv3 = 320, f3_conv1 = 32, f3_conv5 = 128, f4 = 128)\n",
    "\n",
    "    # 9th Inception block\n",
    "    X = Inception_block(X, f1 = 384, f2_conv1 = 192, f2_conv3 = 384, f3_conv1 = 48, f3_conv5 = 128, f4 = 128)\n",
    "\n",
    "    # Global Average pooling layer \n",
    "    X = GlobalAveragePooling2D(name = 'GAPL')(X)\n",
    "\n",
    "    # Dropoutlayer \n",
    "    X = Dropout(0.4)(X)\n",
    "\n",
    "    # output layer \n",
    "    X = Dense(10, activation = 'softmax')(X)\n",
    "\n",
    "    # model\n",
    "    model = Model(input_layer, [X, X1, X2], name = 'GoogLeNet')\n",
    "\n",
    "    return model"
   ]
  },
  {
   "cell_type": "code",
   "execution_count": 21,
   "id": "71c45290-b89e-4583-886b-a9d4d8dbee1a",
   "metadata": {},
   "outputs": [],
   "source": [
    "model = GoogLeNet()"
   ]
  },
  {
   "cell_type": "code",
   "execution_count": 22,
   "id": "6e51059b-6142-4144-ad4e-de4b16f70344",
   "metadata": {},
   "outputs": [],
   "source": [
    "#model.summary()"
   ]
  },
  {
   "cell_type": "code",
   "execution_count": 23,
   "id": "67557ab3-f717-417d-89f4-df7486d353d3",
   "metadata": {},
   "outputs": [
    {
     "name": "stderr",
     "output_type": "stream",
     "text": [
      "WARNING:absl:`lr` is deprecated, please use `learning_rate` instead, or use the legacy optimizer, e.g.,tf.keras.optimizers.legacy.Adam.\n"
     ]
    }
   ],
   "source": [
    "optimizer = keras.optimizers.Adam(lr=1e-4)\n",
    "model.compile(optimizer = optimizer, loss = 'categorical_crossentropy', metrics = ['accuracy'])"
   ]
  },
  {
   "cell_type": "code",
   "execution_count": 24,
   "id": "0bd8e534-c0dc-4453-9a36-af2d8f3764a0",
   "metadata": {},
   "outputs": [
    {
     "name": "stdout",
     "output_type": "stream",
     "text": [
      "Epoch 1/50\n",
      "158/158 [==============================] - 307s 2s/step - loss: 6.4707 - dense_4_loss: 2.1697 - dense_1_loss: 2.1474 - dense_3_loss: 2.1536 - dense_4_accuracy: 0.1818 - dense_1_accuracy: 0.1880 - dense_3_accuracy: 0.1923 - val_loss: 6.1331 - val_dense_4_loss: 2.0604 - val_dense_1_loss: 2.0382 - val_dense_3_loss: 2.0346 - val_dense_4_accuracy: 0.2093 - val_dense_1_accuracy: 0.2249 - val_dense_3_accuracy: 0.2285\n",
      "Epoch 2/50\n",
      "158/158 [==============================] - 300s 2s/step - loss: 5.9797 - dense_4_loss: 2.0144 - dense_1_loss: 1.9739 - dense_3_loss: 1.9914 - dense_4_accuracy: 0.2222 - dense_1_accuracy: 0.2582 - dense_3_accuracy: 0.2420 - val_loss: 5.5687 - val_dense_4_loss: 1.9000 - val_dense_1_loss: 1.8297 - val_dense_3_loss: 1.8390 - val_dense_4_accuracy: 0.2715 - val_dense_1_accuracy: 0.3313 - val_dense_3_accuracy: 0.3206\n",
      "Epoch 3/50\n",
      "158/158 [==============================] - 299s 2s/step - loss: 5.5034 - dense_4_loss: 1.8676 - dense_1_loss: 1.7896 - dense_3_loss: 1.8462 - dense_4_accuracy: 0.3082 - dense_1_accuracy: 0.3590 - dense_3_accuracy: 0.3281 - val_loss: 5.0026 - val_dense_4_loss: 1.7034 - val_dense_1_loss: 1.6453 - val_dense_3_loss: 1.6539 - val_dense_4_accuracy: 0.3876 - val_dense_1_accuracy: 0.4270 - val_dense_3_accuracy: 0.4103\n",
      "Epoch 4/50\n",
      "158/158 [==============================] - 301s 2s/step - loss: 4.7493 - dense_4_loss: 1.5985 - dense_1_loss: 1.5530 - dense_3_loss: 1.5978 - dense_4_accuracy: 0.4330 - dense_1_accuracy: 0.4577 - dense_3_accuracy: 0.4427 - val_loss: 4.7970 - val_dense_4_loss: 1.5955 - val_dense_1_loss: 1.6317 - val_dense_3_loss: 1.5698 - val_dense_4_accuracy: 0.4414 - val_dense_1_accuracy: 0.4701 - val_dense_3_accuracy: 0.4940\n",
      "Epoch 5/50\n",
      "158/158 [==============================] - 305s 2s/step - loss: 4.0026 - dense_4_loss: 1.3445 - dense_1_loss: 1.3135 - dense_3_loss: 1.3446 - dense_4_accuracy: 0.5395 - dense_1_accuracy: 0.5533 - dense_3_accuracy: 0.5417 - val_loss: 4.5175 - val_dense_4_loss: 1.5697 - val_dense_1_loss: 1.4651 - val_dense_3_loss: 1.4827 - val_dense_4_accuracy: 0.4462 - val_dense_1_accuracy: 0.4701 - val_dense_3_accuracy: 0.4689\n",
      "Epoch 6/50\n",
      "158/158 [==============================] - 306s 2s/step - loss: 3.3406 - dense_4_loss: 1.1206 - dense_1_loss: 1.0993 - dense_3_loss: 1.1207 - dense_4_accuracy: 0.6323 - dense_1_accuracy: 0.6304 - dense_3_accuracy: 0.6205 - val_loss: 4.5078 - val_dense_4_loss: 1.5980 - val_dense_1_loss: 1.4220 - val_dense_3_loss: 1.4878 - val_dense_4_accuracy: 0.4928 - val_dense_1_accuracy: 0.5490 - val_dense_3_accuracy: 0.5156\n",
      "Epoch 7/50\n",
      "158/158 [==============================] - 307s 2s/step - loss: 2.7425 - dense_4_loss: 0.9126 - dense_1_loss: 0.9105 - dense_3_loss: 0.9194 - dense_4_accuracy: 0.6972 - dense_1_accuracy: 0.6983 - dense_3_accuracy: 0.6962 - val_loss: 4.4798 - val_dense_4_loss: 1.5009 - val_dense_1_loss: 1.4990 - val_dense_3_loss: 1.4799 - val_dense_4_accuracy: 0.5191 - val_dense_1_accuracy: 0.5060 - val_dense_3_accuracy: 0.5144\n",
      "Epoch 8/50\n",
      "158/158 [==============================] - 307s 2s/step - loss: 2.2579 - dense_4_loss: 0.7496 - dense_1_loss: 0.7571 - dense_3_loss: 0.7512 - dense_4_accuracy: 0.7520 - dense_1_accuracy: 0.7480 - dense_3_accuracy: 0.7517 - val_loss: 5.1857 - val_dense_4_loss: 1.8121 - val_dense_1_loss: 1.6840 - val_dense_3_loss: 1.6896 - val_dense_4_accuracy: 0.5024 - val_dense_1_accuracy: 0.5084 - val_dense_3_accuracy: 0.4916\n",
      "Epoch 9/50\n",
      "158/158 [==============================] - 307s 2s/step - loss: 1.9333 - dense_4_loss: 0.6363 - dense_1_loss: 0.6592 - dense_3_loss: 0.6378 - dense_4_accuracy: 0.7867 - dense_1_accuracy: 0.7814 - dense_3_accuracy: 0.7898 - val_loss: 4.6365 - val_dense_4_loss: 1.6142 - val_dense_1_loss: 1.4755 - val_dense_3_loss: 1.5468 - val_dense_4_accuracy: 0.5191 - val_dense_1_accuracy: 0.5586 - val_dense_3_accuracy: 0.5227\n",
      "Epoch 10/50\n",
      "158/158 [==============================] - 307s 2s/step - loss: 1.5788 - dense_4_loss: 0.5162 - dense_1_loss: 0.5437 - dense_3_loss: 0.5190 - dense_4_accuracy: 0.8287 - dense_1_accuracy: 0.8185 - dense_3_accuracy: 0.8296 - val_loss: 6.3156 - val_dense_4_loss: 2.3163 - val_dense_1_loss: 1.7791 - val_dense_3_loss: 2.2202 - val_dense_4_accuracy: 0.4928 - val_dense_1_accuracy: 0.5227 - val_dense_3_accuracy: 0.5060\n",
      "Epoch 11/50\n",
      "158/158 [==============================] - 308s 2s/step - loss: 1.3281 - dense_4_loss: 0.4361 - dense_1_loss: 0.4590 - dense_3_loss: 0.4330 - dense_4_accuracy: 0.8514 - dense_1_accuracy: 0.8457 - dense_3_accuracy: 0.8552 - val_loss: 6.0094 - val_dense_4_loss: 2.0151 - val_dense_1_loss: 2.0496 - val_dense_3_loss: 1.9447 - val_dense_4_accuracy: 0.4785 - val_dense_1_accuracy: 0.5000 - val_dense_3_accuracy: 0.5084\n",
      "Epoch 12/50\n",
      "158/158 [==============================] - 307s 2s/step - loss: 1.1901 - dense_4_loss: 0.3816 - dense_1_loss: 0.4248 - dense_3_loss: 0.3837 - dense_4_accuracy: 0.8709 - dense_1_accuracy: 0.8563 - dense_3_accuracy: 0.8737 - val_loss: 6.8435 - val_dense_4_loss: 2.3827 - val_dense_1_loss: 2.2418 - val_dense_3_loss: 2.2191 - val_dense_4_accuracy: 0.5096 - val_dense_1_accuracy: 0.5156 - val_dense_3_accuracy: 0.5108\n",
      "Epoch 13/50\n",
      "158/158 [==============================] - 306s 2s/step - loss: 1.0072 - dense_4_loss: 0.3189 - dense_1_loss: 0.3650 - dense_3_loss: 0.3234 - dense_4_accuracy: 0.8914 - dense_1_accuracy: 0.8795 - dense_3_accuracy: 0.8900 - val_loss: 5.9784 - val_dense_4_loss: 2.1610 - val_dense_1_loss: 1.8052 - val_dense_3_loss: 2.0122 - val_dense_4_accuracy: 0.5311 - val_dense_1_accuracy: 0.5251 - val_dense_3_accuracy: 0.5323\n",
      "Epoch 14/50\n",
      "158/158 [==============================] - 307s 2s/step - loss: 0.8868 - dense_4_loss: 0.2758 - dense_1_loss: 0.3302 - dense_3_loss: 0.2808 - dense_4_accuracy: 0.9061 - dense_1_accuracy: 0.8933 - dense_3_accuracy: 0.9045 - val_loss: 6.9630 - val_dense_4_loss: 2.4821 - val_dense_1_loss: 2.2015 - val_dense_3_loss: 2.2794 - val_dense_4_accuracy: 0.5347 - val_dense_1_accuracy: 0.5311 - val_dense_3_accuracy: 0.5478\n",
      "Epoch 15/50\n",
      "158/158 [==============================] - 307s 2s/step - loss: 0.7872 - dense_4_loss: 0.2419 - dense_1_loss: 0.3046 - dense_3_loss: 0.2406 - dense_4_accuracy: 0.9187 - dense_1_accuracy: 0.8974 - dense_3_accuracy: 0.9206 - val_loss: 7.2219 - val_dense_4_loss: 2.4897 - val_dense_1_loss: 2.3458 - val_dense_3_loss: 2.3864 - val_dense_4_accuracy: 0.5144 - val_dense_1_accuracy: 0.5526 - val_dense_3_accuracy: 0.5299\n",
      "Epoch 16/50\n",
      "158/158 [==============================] - 307s 2s/step - loss: 0.6473 - dense_4_loss: 0.2015 - dense_1_loss: 0.2474 - dense_3_loss: 0.1984 - dense_4_accuracy: 0.9326 - dense_1_accuracy: 0.9201 - dense_3_accuracy: 0.9368 - val_loss: 6.5914 - val_dense_4_loss: 2.2598 - val_dense_1_loss: 2.0966 - val_dense_3_loss: 2.2350 - val_dense_4_accuracy: 0.5299 - val_dense_1_accuracy: 0.5395 - val_dense_3_accuracy: 0.5335\n",
      "Epoch 17/50\n",
      "158/158 [==============================] - 308s 2s/step - loss: 0.6122 - dense_4_loss: 0.1862 - dense_1_loss: 0.2385 - dense_3_loss: 0.1875 - dense_4_accuracy: 0.9383 - dense_1_accuracy: 0.9213 - dense_3_accuracy: 0.9400 - val_loss: 6.6448 - val_dense_4_loss: 2.2243 - val_dense_1_loss: 2.1063 - val_dense_3_loss: 2.3143 - val_dense_4_accuracy: 0.5263 - val_dense_1_accuracy: 0.5323 - val_dense_3_accuracy: 0.5323\n",
      "Epoch 18/50\n",
      "158/158 [==============================] - 306s 2s/step - loss: 0.5228 - dense_4_loss: 0.1569 - dense_1_loss: 0.2037 - dense_3_loss: 0.1622 - dense_4_accuracy: 0.9488 - dense_1_accuracy: 0.9312 - dense_3_accuracy: 0.9464 - val_loss: 7.1334 - val_dense_4_loss: 2.4517 - val_dense_1_loss: 2.2549 - val_dense_3_loss: 2.4268 - val_dense_4_accuracy: 0.5072 - val_dense_1_accuracy: 0.5251 - val_dense_3_accuracy: 0.5096\n",
      "Epoch 19/50\n",
      "158/158 [==============================] - 306s 2s/step - loss: 0.4061 - dense_4_loss: 0.1125 - dense_1_loss: 0.1713 - dense_3_loss: 0.1223 - dense_4_accuracy: 0.9621 - dense_1_accuracy: 0.9411 - dense_3_accuracy: 0.9614 - val_loss: 8.0637 - val_dense_4_loss: 2.9571 - val_dense_1_loss: 2.4186 - val_dense_3_loss: 2.6880 - val_dense_4_accuracy: 0.5048 - val_dense_1_accuracy: 0.5478 - val_dense_3_accuracy: 0.5120\n",
      "Epoch 20/50\n",
      "158/158 [==============================] - 307s 2s/step - loss: 0.4952 - dense_4_loss: 0.1550 - dense_1_loss: 0.1907 - dense_3_loss: 0.1495 - dense_4_accuracy: 0.9489 - dense_1_accuracy: 0.9364 - dense_3_accuracy: 0.9531 - val_loss: 9.4134 - val_dense_4_loss: 3.5476 - val_dense_1_loss: 2.6045 - val_dense_3_loss: 3.2613 - val_dense_4_accuracy: 0.5371 - val_dense_1_accuracy: 0.5526 - val_dense_3_accuracy: 0.5395\n",
      "Epoch 21/50\n",
      "158/158 [==============================] - 307s 2s/step - loss: 0.4366 - dense_4_loss: 0.1348 - dense_1_loss: 0.1654 - dense_3_loss: 0.1364 - dense_4_accuracy: 0.9565 - dense_1_accuracy: 0.9448 - dense_3_accuracy: 0.9590 - val_loss: 6.9009 - val_dense_4_loss: 2.2265 - val_dense_1_loss: 2.2796 - val_dense_3_loss: 2.3948 - val_dense_4_accuracy: 0.5455 - val_dense_1_accuracy: 0.5478 - val_dense_3_accuracy: 0.5359\n",
      "Epoch 22/50\n",
      "158/158 [==============================] - 308s 2s/step - loss: 0.3749 - dense_4_loss: 0.1144 - dense_1_loss: 0.1469 - dense_3_loss: 0.1137 - dense_4_accuracy: 0.9624 - dense_1_accuracy: 0.9489 - dense_3_accuracy: 0.9657 - val_loss: 7.7112 - val_dense_4_loss: 2.4613 - val_dense_1_loss: 2.5975 - val_dense_3_loss: 2.6523 - val_dense_4_accuracy: 0.5514 - val_dense_1_accuracy: 0.5287 - val_dense_3_accuracy: 0.5502\n",
      "Epoch 23/50\n",
      "158/158 [==============================] - 306s 2s/step - loss: 0.3721 - dense_4_loss: 0.1085 - dense_1_loss: 0.1583 - dense_3_loss: 0.1053 - dense_4_accuracy: 0.9662 - dense_1_accuracy: 0.9484 - dense_3_accuracy: 0.9669 - val_loss: 8.0730 - val_dense_4_loss: 2.6670 - val_dense_1_loss: 2.7259 - val_dense_3_loss: 2.6801 - val_dense_4_accuracy: 0.5395 - val_dense_1_accuracy: 0.5622 - val_dense_3_accuracy: 0.5610\n",
      "Epoch 24/50\n",
      "158/158 [==============================] - 300s 2s/step - loss: 0.2496 - dense_4_loss: 0.0655 - dense_1_loss: 0.1169 - dense_3_loss: 0.0672 - dense_4_accuracy: 0.9762 - dense_1_accuracy: 0.9605 - dense_3_accuracy: 0.9757 - val_loss: 10.7788 - val_dense_4_loss: 3.9304 - val_dense_1_loss: 3.1046 - val_dense_3_loss: 3.7438 - val_dense_4_accuracy: 0.5120 - val_dense_1_accuracy: 0.5431 - val_dense_3_accuracy: 0.5371\n",
      "Epoch 25/50\n",
      "158/158 [==============================] - 298s 2s/step - loss: 0.3397 - dense_4_loss: 0.1042 - dense_1_loss: 0.1287 - dense_3_loss: 0.1069 - dense_4_accuracy: 0.9662 - dense_1_accuracy: 0.9534 - dense_3_accuracy: 0.9655 - val_loss: 11.0161 - val_dense_4_loss: 3.8428 - val_dense_1_loss: 3.3640 - val_dense_3_loss: 3.8093 - val_dense_4_accuracy: 0.4976 - val_dense_1_accuracy: 0.5502 - val_dense_3_accuracy: 0.5263\n",
      "Epoch 26/50\n",
      "158/158 [==============================] - 298s 2s/step - loss: 0.2690 - dense_4_loss: 0.0805 - dense_1_loss: 0.1081 - dense_3_loss: 0.0804 - dense_4_accuracy: 0.9728 - dense_1_accuracy: 0.9614 - dense_3_accuracy: 0.9723 - val_loss: 9.6108 - val_dense_4_loss: 3.1483 - val_dense_1_loss: 3.2233 - val_dense_3_loss: 3.2392 - val_dense_4_accuracy: 0.5191 - val_dense_1_accuracy: 0.5359 - val_dense_3_accuracy: 0.5179\n",
      "Epoch 27/50\n",
      "158/158 [==============================] - 299s 2s/step - loss: 0.3325 - dense_4_loss: 0.1058 - dense_1_loss: 0.1246 - dense_3_loss: 0.1021 - dense_4_accuracy: 0.9658 - dense_1_accuracy: 0.9552 - dense_3_accuracy: 0.9674 - val_loss: 9.5459 - val_dense_4_loss: 2.7463 - val_dense_1_loss: 3.9228 - val_dense_3_loss: 2.8768 - val_dense_4_accuracy: 0.5299 - val_dense_1_accuracy: 0.5359 - val_dense_3_accuracy: 0.5335\n",
      "Epoch 28/50\n",
      "158/158 [==============================] - 298s 2s/step - loss: 0.2314 - dense_4_loss: 0.0645 - dense_1_loss: 0.0973 - dense_3_loss: 0.0696 - dense_4_accuracy: 0.9791 - dense_1_accuracy: 0.9692 - dense_3_accuracy: 0.9792 - val_loss: 8.9984 - val_dense_4_loss: 2.9470 - val_dense_1_loss: 3.1996 - val_dense_3_loss: 2.8518 - val_dense_4_accuracy: 0.5574 - val_dense_1_accuracy: 0.5359 - val_dense_3_accuracy: 0.5490\n",
      "Epoch 29/50\n",
      "158/158 [==============================] - 297s 2s/step - loss: 0.2581 - dense_4_loss: 0.0769 - dense_1_loss: 0.1074 - dense_3_loss: 0.0738 - dense_4_accuracy: 0.9756 - dense_1_accuracy: 0.9631 - dense_3_accuracy: 0.9762 - val_loss: 9.6625 - val_dense_4_loss: 3.4354 - val_dense_1_loss: 3.0212 - val_dense_3_loss: 3.2060 - val_dense_4_accuracy: 0.5299 - val_dense_1_accuracy: 0.5550 - val_dense_3_accuracy: 0.5383\n",
      "Epoch 30/50\n",
      "158/158 [==============================] - 297s 2s/step - loss: 0.2140 - dense_4_loss: 0.0612 - dense_1_loss: 0.0883 - dense_3_loss: 0.0646 - dense_4_accuracy: 0.9801 - dense_1_accuracy: 0.9696 - dense_3_accuracy: 0.9785 - val_loss: 9.8582 - val_dense_4_loss: 3.4653 - val_dense_1_loss: 3.1714 - val_dense_3_loss: 3.2215 - val_dense_4_accuracy: 0.5323 - val_dense_1_accuracy: 0.5610 - val_dense_3_accuracy: 0.5478\n",
      "Epoch 31/50\n",
      "158/158 [==============================] - 299s 2s/step - loss: 0.1683 - dense_4_loss: 0.0508 - dense_1_loss: 0.0690 - dense_3_loss: 0.0485 - dense_4_accuracy: 0.9834 - dense_1_accuracy: 0.9764 - dense_3_accuracy: 0.9844 - val_loss: 9.0290 - val_dense_4_loss: 2.8604 - val_dense_1_loss: 3.1431 - val_dense_3_loss: 3.0256 - val_dense_4_accuracy: 0.5395 - val_dense_1_accuracy: 0.5610 - val_dense_3_accuracy: 0.5383\n",
      "Epoch 32/50\n",
      "158/158 [==============================] - 298s 2s/step - loss: 0.1795 - dense_4_loss: 0.0515 - dense_1_loss: 0.0770 - dense_3_loss: 0.0509 - dense_4_accuracy: 0.9838 - dense_1_accuracy: 0.9731 - dense_3_accuracy: 0.9849 - val_loss: 11.4669 - val_dense_4_loss: 3.5834 - val_dense_1_loss: 3.7943 - val_dense_3_loss: 4.0892 - val_dense_4_accuracy: 0.5239 - val_dense_1_accuracy: 0.5191 - val_dense_3_accuracy: 0.5167\n",
      "Epoch 33/50\n",
      "158/158 [==============================] - 303s 2s/step - loss: 0.2581 - dense_4_loss: 0.0830 - dense_1_loss: 0.1030 - dense_3_loss: 0.0721 - dense_4_accuracy: 0.9740 - dense_1_accuracy: 0.9678 - dense_3_accuracy: 0.9781 - val_loss: 8.3938 - val_dense_4_loss: 2.8380 - val_dense_1_loss: 2.7474 - val_dense_3_loss: 2.8084 - val_dense_4_accuracy: 0.5622 - val_dense_1_accuracy: 0.5550 - val_dense_3_accuracy: 0.5574\n",
      "Epoch 34/50\n",
      "158/158 [==============================] - 307s 2s/step - loss: 0.2213 - dense_4_loss: 0.0555 - dense_1_loss: 0.1007 - dense_3_loss: 0.0651 - dense_4_accuracy: 0.9833 - dense_1_accuracy: 0.9705 - dense_3_accuracy: 0.9811 - val_loss: 9.4881 - val_dense_4_loss: 3.4110 - val_dense_1_loss: 2.9755 - val_dense_3_loss: 3.1015 - val_dense_4_accuracy: 0.5048 - val_dense_1_accuracy: 0.5203 - val_dense_3_accuracy: 0.5191\n",
      "Epoch 35/50\n",
      "158/158 [==============================] - 305s 2s/step - loss: 0.2920 - dense_4_loss: 0.0840 - dense_1_loss: 0.1207 - dense_3_loss: 0.0873 - dense_4_accuracy: 0.9738 - dense_1_accuracy: 0.9631 - dense_3_accuracy: 0.9724 - val_loss: 9.3415 - val_dense_4_loss: 3.2146 - val_dense_1_loss: 2.9850 - val_dense_3_loss: 3.1419 - val_dense_4_accuracy: 0.5132 - val_dense_1_accuracy: 0.5359 - val_dense_3_accuracy: 0.5251\n",
      "Epoch 36/50\n",
      "158/158 [==============================] - 305s 2s/step - loss: 0.2060 - dense_4_loss: 0.0684 - dense_1_loss: 0.0759 - dense_3_loss: 0.0617 - dense_4_accuracy: 0.9786 - dense_1_accuracy: 0.9752 - dense_3_accuracy: 0.9811 - val_loss: 11.0065 - val_dense_4_loss: 3.7072 - val_dense_1_loss: 3.7060 - val_dense_3_loss: 3.5933 - val_dense_4_accuracy: 0.5060 - val_dense_1_accuracy: 0.5419 - val_dense_3_accuracy: 0.5215\n",
      "Epoch 37/50\n",
      "158/158 [==============================] - 306s 2s/step - loss: 0.1935 - dense_4_loss: 0.0543 - dense_1_loss: 0.0780 - dense_3_loss: 0.0612 - dense_4_accuracy: 0.9824 - dense_1_accuracy: 0.9749 - dense_3_accuracy: 0.9814 - val_loss: 8.6193 - val_dense_4_loss: 2.7189 - val_dense_1_loss: 3.0431 - val_dense_3_loss: 2.8574 - val_dense_4_accuracy: 0.5227 - val_dense_1_accuracy: 0.5371 - val_dense_3_accuracy: 0.5227\n",
      "Epoch 38/50\n",
      "158/158 [==============================] - 305s 2s/step - loss: 0.1357 - dense_4_loss: 0.0400 - dense_1_loss: 0.0563 - dense_3_loss: 0.0395 - dense_4_accuracy: 0.9870 - dense_1_accuracy: 0.9824 - dense_3_accuracy: 0.9873 - val_loss: 11.3479 - val_dense_4_loss: 4.0093 - val_dense_1_loss: 3.5039 - val_dense_3_loss: 3.8348 - val_dense_4_accuracy: 0.5108 - val_dense_1_accuracy: 0.5431 - val_dense_3_accuracy: 0.5132\n",
      "Epoch 39/50\n",
      "158/158 [==============================] - 305s 2s/step - loss: 0.1931 - dense_4_loss: 0.0610 - dense_1_loss: 0.0712 - dense_3_loss: 0.0608 - dense_4_accuracy: 0.9805 - dense_1_accuracy: 0.9772 - dense_3_accuracy: 0.9807 - val_loss: 9.5564 - val_dense_4_loss: 3.2202 - val_dense_1_loss: 3.0385 - val_dense_3_loss: 3.2976 - val_dense_4_accuracy: 0.5383 - val_dense_1_accuracy: 0.5538 - val_dense_3_accuracy: 0.5490\n",
      "Epoch 40/50\n",
      "158/158 [==============================] - 306s 2s/step - loss: 0.1507 - dense_4_loss: 0.0481 - dense_1_loss: 0.0574 - dense_3_loss: 0.0451 - dense_4_accuracy: 0.9844 - dense_1_accuracy: 0.9807 - dense_3_accuracy: 0.9856 - val_loss: 9.3722 - val_dense_4_loss: 2.9618 - val_dense_1_loss: 3.1743 - val_dense_3_loss: 3.2361 - val_dense_4_accuracy: 0.5407 - val_dense_1_accuracy: 0.5275 - val_dense_3_accuracy: 0.5311\n",
      "Epoch 41/50\n",
      "158/158 [==============================] - 306s 2s/step - loss: 0.1966 - dense_4_loss: 0.0594 - dense_1_loss: 0.0775 - dense_3_loss: 0.0597 - dense_4_accuracy: 0.9794 - dense_1_accuracy: 0.9773 - dense_3_accuracy: 0.9807 - val_loss: 9.9683 - val_dense_4_loss: 3.2049 - val_dense_1_loss: 3.5037 - val_dense_3_loss: 3.2597 - val_dense_4_accuracy: 0.5215 - val_dense_1_accuracy: 0.5335 - val_dense_3_accuracy: 0.5287\n",
      "Epoch 42/50\n",
      "158/158 [==============================] - 306s 2s/step - loss: 0.2535 - dense_4_loss: 0.0856 - dense_1_loss: 0.0883 - dense_3_loss: 0.0796 - dense_4_accuracy: 0.9739 - dense_1_accuracy: 0.9744 - dense_3_accuracy: 0.9769 - val_loss: 9.5689 - val_dense_4_loss: 2.8694 - val_dense_1_loss: 3.5846 - val_dense_3_loss: 3.1150 - val_dense_4_accuracy: 0.5538 - val_dense_1_accuracy: 0.5562 - val_dense_3_accuracy: 0.5467\n",
      "Epoch 43/50\n",
      "158/158 [==============================] - 301s 2s/step - loss: 0.3549 - dense_4_loss: 0.1118 - dense_1_loss: 0.1175 - dense_3_loss: 0.1256 - dense_4_accuracy: 0.9686 - dense_1_accuracy: 0.9605 - dense_3_accuracy: 0.9671 - val_loss: 9.3699 - val_dense_4_loss: 3.1504 - val_dense_1_loss: 3.1641 - val_dense_3_loss: 3.0554 - val_dense_4_accuracy: 0.5167 - val_dense_1_accuracy: 0.5287 - val_dense_3_accuracy: 0.5179\n",
      "Epoch 44/50\n",
      "158/158 [==============================] - 299s 2s/step - loss: 0.1758 - dense_4_loss: 0.0508 - dense_1_loss: 0.0692 - dense_3_loss: 0.0558 - dense_4_accuracy: 0.9825 - dense_1_accuracy: 0.9758 - dense_3_accuracy: 0.9826 - val_loss: 11.2455 - val_dense_4_loss: 3.6701 - val_dense_1_loss: 3.6314 - val_dense_3_loss: 3.9440 - val_dense_4_accuracy: 0.4988 - val_dense_1_accuracy: 0.5407 - val_dense_3_accuracy: 0.4940\n",
      "Epoch 45/50\n",
      "158/158 [==============================] - 298s 2s/step - loss: 0.1686 - dense_4_loss: 0.0548 - dense_1_loss: 0.0612 - dense_3_loss: 0.0525 - dense_4_accuracy: 0.9843 - dense_1_accuracy: 0.9791 - dense_3_accuracy: 0.9832 - val_loss: 8.9663 - val_dense_4_loss: 2.6745 - val_dense_1_loss: 3.1625 - val_dense_3_loss: 3.1293 - val_dense_4_accuracy: 0.5263 - val_dense_1_accuracy: 0.5526 - val_dense_3_accuracy: 0.5108\n",
      "Epoch 46/50\n",
      "158/158 [==============================] - 297s 2s/step - loss: 0.1660 - dense_4_loss: 0.0454 - dense_1_loss: 0.0717 - dense_3_loss: 0.0489 - dense_4_accuracy: 0.9847 - dense_1_accuracy: 0.9771 - dense_3_accuracy: 0.9844 - val_loss: 9.3837 - val_dense_4_loss: 3.2267 - val_dense_1_loss: 3.0698 - val_dense_3_loss: 3.0872 - val_dense_4_accuracy: 0.5323 - val_dense_1_accuracy: 0.5538 - val_dense_3_accuracy: 0.5395\n",
      "Epoch 47/50\n",
      "158/158 [==============================] - 299s 2s/step - loss: 0.1448 - dense_4_loss: 0.0479 - dense_1_loss: 0.0529 - dense_3_loss: 0.0440 - dense_4_accuracy: 0.9864 - dense_1_accuracy: 0.9839 - dense_3_accuracy: 0.9871 - val_loss: 11.8819 - val_dense_4_loss: 4.0594 - val_dense_1_loss: 3.7873 - val_dense_3_loss: 4.0352 - val_dense_4_accuracy: 0.5108 - val_dense_1_accuracy: 0.5431 - val_dense_3_accuracy: 0.5275\n",
      "Epoch 48/50\n",
      "158/158 [==============================] - 303s 2s/step - loss: 0.0830 - dense_4_loss: 0.0238 - dense_1_loss: 0.0369 - dense_3_loss: 0.0223 - dense_4_accuracy: 0.9923 - dense_1_accuracy: 0.9880 - dense_3_accuracy: 0.9932 - val_loss: 10.2439 - val_dense_4_loss: 3.2300 - val_dense_1_loss: 3.5689 - val_dense_3_loss: 3.4450 - val_dense_4_accuracy: 0.5383 - val_dense_1_accuracy: 0.5538 - val_dense_3_accuracy: 0.5490\n",
      "Epoch 49/50\n",
      "158/158 [==============================] - 315s 2s/step - loss: 0.0739 - dense_4_loss: 0.0202 - dense_1_loss: 0.0309 - dense_3_loss: 0.0227 - dense_4_accuracy: 0.9924 - dense_1_accuracy: 0.9900 - dense_3_accuracy: 0.9923 - val_loss: 13.1531 - val_dense_4_loss: 4.4580 - val_dense_1_loss: 4.4517 - val_dense_3_loss: 4.2434 - val_dense_4_accuracy: 0.5215 - val_dense_1_accuracy: 0.5395 - val_dense_3_accuracy: 0.5251\n",
      "Epoch 50/50\n",
      "158/158 [==============================] - 322s 2s/step - loss: 0.1507 - dense_4_loss: 0.0431 - dense_1_loss: 0.0581 - dense_3_loss: 0.0494 - dense_4_accuracy: 0.9839 - dense_1_accuracy: 0.9826 - dense_3_accuracy: 0.9845 - val_loss: 14.2090 - val_dense_4_loss: 4.5515 - val_dense_1_loss: 4.7802 - val_dense_3_loss: 4.8773 - val_dense_4_accuracy: 0.5227 - val_dense_1_accuracy: 0.5419 - val_dense_3_accuracy: 0.5299\n"
     ]
    },
    {
     "data": {
      "text/plain": [
       "<keras.callbacks.History at 0x16a2fd651c0>"
      ]
     },
     "execution_count": 24,
     "metadata": {},
     "output_type": "execute_result"
    }
   ],
   "source": [
    "keras.backend.clear_session()\n",
    "model.fit(x_train, y_train, epochs = 50, batch_size = 50, validation_data = (x_test, y_test))"
   ]
  }
 ],
 "metadata": {
  "kernelspec": {
   "display_name": "Python 3 (ipykernel)",
   "language": "python",
   "name": "python3"
  },
  "language_info": {
   "codemirror_mode": {
    "name": "ipython",
    "version": 3
   },
   "file_extension": ".py",
   "mimetype": "text/x-python",
   "name": "python",
   "nbconvert_exporter": "python",
   "pygments_lexer": "ipython3",
   "version": "3.9.13"
  }
 },
 "nbformat": 4,
 "nbformat_minor": 5
}
