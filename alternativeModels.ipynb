{
 "cells": [
  {
   "cell_type": "markdown",
   "id": "e485411f-c6e4-4d83-86fd-b4cdeec684a8",
   "metadata": {},
   "source": [
    "# Alternative Models"
   ]
  },
  {
   "cell_type": "markdown",
   "id": "dd9b8ebf-d266-4137-b1ed-368506ba5514",
   "metadata": {},
   "source": [
    "### Set up"
   ]
  },
  {
   "cell_type": "code",
   "execution_count": 41,
   "id": "1e861af1-cf4b-4202-828d-152cfc794623",
   "metadata": {},
   "outputs": [],
   "source": [
    "### Load necessary libraries ###\n",
    "import glob\n",
    "import os\n",
    "import librosa\n",
    "import numpy as np\n",
    "from sklearn.model_selection import KFold\n",
    "from sklearn.metrics import accuracy_score\n",
    "\n",
    "import tensorflow as tf\n",
    "from tensorflow import keras\n",
    "from tensorflow.keras.models import Sequential\n",
    "from tensorflow.keras.layers import Conv2D, Flatten, Dense, MaxPool2D, Dropout, Input\n",
    "from keras.models import Model\n",
    "\n",
    "import pandas as pd\n",
    "import matplotlib.pyplot as plt\n",
    "from tqdm import tqdm\n",
    "\n",
    "from librosa import display\n",
    "import librosa"
   ]
  },
  {
   "cell_type": "code",
   "execution_count": 6,
   "id": "90e154c7-bd9d-470c-8c76-2d9af61ae316",
   "metadata": {},
   "outputs": [],
   "source": [
    "x_train = pd.read_csv(\"allFeaturesData/train_data.csv\").to_numpy().reshape(7894, 40, 5, 1)\n",
    "x_test = pd.read_csv(\"allFeaturesData/test_data.csv\").to_numpy().reshape(836, 40, 5, 1)\n",
    "y_train = pd.read_csv(\"allFeaturesData/train_labels.csv\").to_numpy().reshape(7894,)\n",
    "y_test = pd.read_csv(\"allFeaturesData/test_labels.csv\").to_numpy().reshape(836,)"
   ]
  },
  {
   "cell_type": "code",
   "execution_count": 13,
   "id": "eaa7d537-5dde-4dd6-a4da-88dabd035507",
   "metadata": {},
   "outputs": [],
   "source": [
    "pool_size = (2, 2)\n",
    "kernel_size = (3, 3)\n",
    "input_shape = (40, 5, 1)\n",
    "num_classes = 10"
   ]
  },
  {
   "cell_type": "markdown",
   "id": "e1edd4d7-1203-4030-baf6-1a5913101c10",
   "metadata": {},
   "source": [
    "### LeNet-5"
   ]
  },
  {
   "cell_type": "code",
   "execution_count": 82,
   "id": "f9777d09-fb69-4bdf-b57a-4219f28e035f",
   "metadata": {},
   "outputs": [
    {
     "name": "stderr",
     "output_type": "stream",
     "text": [
      "C:\\Users\\EmmaC\\Anaconda3\\lib\\site-packages\\keras\\optimizers\\optimizer_v2\\adam.py:110: UserWarning: The `lr` argument is deprecated, use `learning_rate` instead.\n",
      "  super(Adam, self).__init__(name, **kwargs)\n"
     ]
    }
   ],
   "source": [
    "# model\n",
    "model = keras.Sequential()\n",
    "model.add(keras.layers.Conv2D(filters=6, kernel_size=(3, 3), activation='relu', input_shape=(40,5,1),padding='same'))\n",
    "model.add(keras.layers.AveragePooling2D(padding='same'))\n",
    "model.add(keras.layers.Conv2D(filters=16, kernel_size=(3, 3), activation='relu',padding='same'))\n",
    "model.add(keras.layers.AveragePooling2D(padding='same'))\n",
    "model.add(keras.layers.Flatten())\n",
    "model.add(keras.layers.Dense(units=120, activation='relu'))\n",
    "model.add(keras.layers.Dense(units=84, activation='relu'))\n",
    "model.add(keras.layers.Dense(units=10, activation = 'softmax'))\n",
    "\n",
    "\n",
    "optimizer = keras.optimizers.Adam(lr=1e-4)\n",
    "model.compile(optimizer = optimizer, loss = 'sparse_categorical_crossentropy', metrics = ['accuracy'])"
   ]
  },
  {
   "cell_type": "code",
   "execution_count": 83,
   "id": "8f432285-6e01-40b3-8b11-6f6c67187c64",
   "metadata": {},
   "outputs": [
    {
     "name": "stdout",
     "output_type": "stream",
     "text": [
      "Epoch 1/50\n",
      "158/158 [==============================] - 1s 2ms/step - loss: 2.1430 - accuracy: 0.2468 - val_loss: 1.9677 - val_accuracy: 0.3624\n",
      "Epoch 2/50\n",
      "158/158 [==============================] - 0s 2ms/step - loss: 1.8360 - accuracy: 0.4187 - val_loss: 1.6932 - val_accuracy: 0.4928\n",
      "Epoch 3/50\n",
      "158/158 [==============================] - 0s 2ms/step - loss: 1.5864 - accuracy: 0.4799 - val_loss: 1.5350 - val_accuracy: 0.5610\n",
      "Epoch 4/50\n",
      "158/158 [==============================] - 0s 2ms/step - loss: 1.4282 - accuracy: 0.5206 - val_loss: 1.4356 - val_accuracy: 0.5885\n",
      "Epoch 5/50\n",
      "158/158 [==============================] - 0s 2ms/step - loss: 1.3253 - accuracy: 0.5523 - val_loss: 1.3963 - val_accuracy: 0.5646\n",
      "Epoch 6/50\n",
      "158/158 [==============================] - 0s 2ms/step - loss: 1.2477 - accuracy: 0.5752 - val_loss: 1.3528 - val_accuracy: 0.5885\n",
      "Epoch 7/50\n",
      "158/158 [==============================] - 0s 2ms/step - loss: 1.1869 - accuracy: 0.6005 - val_loss: 1.3215 - val_accuracy: 0.5945\n",
      "Epoch 8/50\n",
      "158/158 [==============================] - 0s 2ms/step - loss: 1.1352 - accuracy: 0.6181 - val_loss: 1.2848 - val_accuracy: 0.6160\n",
      "Epoch 9/50\n",
      "158/158 [==============================] - 0s 2ms/step - loss: 1.0964 - accuracy: 0.6325 - val_loss: 1.2769 - val_accuracy: 0.6148\n",
      "Epoch 10/50\n",
      "158/158 [==============================] - 0s 2ms/step - loss: 1.0554 - accuracy: 0.6412 - val_loss: 1.2545 - val_accuracy: 0.6148\n",
      "Epoch 11/50\n",
      "158/158 [==============================] - 0s 2ms/step - loss: 1.0232 - accuracy: 0.6585 - val_loss: 1.2228 - val_accuracy: 0.6244\n",
      "Epoch 12/50\n",
      "158/158 [==============================] - 0s 2ms/step - loss: 0.9883 - accuracy: 0.6671 - val_loss: 1.2110 - val_accuracy: 0.6148\n",
      "Epoch 13/50\n",
      "158/158 [==============================] - 0s 2ms/step - loss: 0.9658 - accuracy: 0.6758 - val_loss: 1.2177 - val_accuracy: 0.6304\n",
      "Epoch 14/50\n",
      "158/158 [==============================] - 0s 2ms/step - loss: 0.9371 - accuracy: 0.6882 - val_loss: 1.1699 - val_accuracy: 0.6292\n",
      "Epoch 15/50\n",
      "158/158 [==============================] - 0s 2ms/step - loss: 0.9155 - accuracy: 0.6960 - val_loss: 1.1888 - val_accuracy: 0.6388\n",
      "Epoch 16/50\n",
      "158/158 [==============================] - 0s 2ms/step - loss: 0.8912 - accuracy: 0.7018 - val_loss: 1.1786 - val_accuracy: 0.6352\n",
      "Epoch 17/50\n",
      "158/158 [==============================] - 0s 2ms/step - loss: 0.8714 - accuracy: 0.7108 - val_loss: 1.1654 - val_accuracy: 0.6148\n",
      "Epoch 18/50\n",
      "158/158 [==============================] - 0s 2ms/step - loss: 0.8493 - accuracy: 0.7178 - val_loss: 1.1494 - val_accuracy: 0.6447\n",
      "Epoch 19/50\n",
      "158/158 [==============================] - 0s 2ms/step - loss: 0.8292 - accuracy: 0.7232 - val_loss: 1.1514 - val_accuracy: 0.6352\n",
      "Epoch 20/50\n",
      "158/158 [==============================] - 0s 2ms/step - loss: 0.8129 - accuracy: 0.7331 - val_loss: 1.1361 - val_accuracy: 0.6268\n",
      "Epoch 21/50\n",
      "158/158 [==============================] - 0s 2ms/step - loss: 0.8048 - accuracy: 0.7354 - val_loss: 1.1367 - val_accuracy: 0.6292\n",
      "Epoch 22/50\n",
      "158/158 [==============================] - 0s 2ms/step - loss: 0.7781 - accuracy: 0.7458 - val_loss: 1.1269 - val_accuracy: 0.6292\n",
      "Epoch 23/50\n",
      "158/158 [==============================] - 0s 2ms/step - loss: 0.7577 - accuracy: 0.7535 - val_loss: 1.1153 - val_accuracy: 0.6364\n",
      "Epoch 24/50\n",
      "158/158 [==============================] - 0s 2ms/step - loss: 0.7450 - accuracy: 0.7574 - val_loss: 1.1292 - val_accuracy: 0.6507\n",
      "Epoch 25/50\n",
      "158/158 [==============================] - 0s 2ms/step - loss: 0.7272 - accuracy: 0.7651 - val_loss: 1.1176 - val_accuracy: 0.6220\n",
      "Epoch 26/50\n",
      "158/158 [==============================] - 0s 2ms/step - loss: 0.7125 - accuracy: 0.7672 - val_loss: 1.1052 - val_accuracy: 0.6567\n",
      "Epoch 27/50\n",
      "158/158 [==============================] - 0s 2ms/step - loss: 0.6983 - accuracy: 0.7755 - val_loss: 1.1221 - val_accuracy: 0.6280\n",
      "Epoch 28/50\n",
      "158/158 [==============================] - 0s 2ms/step - loss: 0.6856 - accuracy: 0.7781 - val_loss: 1.1254 - val_accuracy: 0.6280\n",
      "Epoch 29/50\n",
      "158/158 [==============================] - 0s 2ms/step - loss: 0.6723 - accuracy: 0.7827 - val_loss: 1.1014 - val_accuracy: 0.6471\n",
      "Epoch 30/50\n",
      "158/158 [==============================] - 0s 2ms/step - loss: 0.6574 - accuracy: 0.7878 - val_loss: 1.1450 - val_accuracy: 0.6340\n",
      "Epoch 31/50\n",
      "158/158 [==============================] - 0s 2ms/step - loss: 0.6455 - accuracy: 0.7950 - val_loss: 1.0917 - val_accuracy: 0.6364\n",
      "Epoch 32/50\n",
      "158/158 [==============================] - 0s 2ms/step - loss: 0.6452 - accuracy: 0.7953 - val_loss: 1.1142 - val_accuracy: 0.6567\n",
      "Epoch 33/50\n",
      "158/158 [==============================] - 0s 2ms/step - loss: 0.6243 - accuracy: 0.8045 - val_loss: 1.1213 - val_accuracy: 0.6411\n",
      "Epoch 34/50\n",
      "158/158 [==============================] - 0s 2ms/step - loss: 0.6161 - accuracy: 0.8053 - val_loss: 1.1128 - val_accuracy: 0.6555\n",
      "Epoch 35/50\n",
      "158/158 [==============================] - 0s 2ms/step - loss: 0.6030 - accuracy: 0.8134 - val_loss: 1.1059 - val_accuracy: 0.6400\n",
      "Epoch 36/50\n",
      "158/158 [==============================] - 0s 2ms/step - loss: 0.5928 - accuracy: 0.8156 - val_loss: 1.1264 - val_accuracy: 0.6352\n",
      "Epoch 37/50\n",
      "158/158 [==============================] - 0s 2ms/step - loss: 0.5831 - accuracy: 0.8194 - val_loss: 1.1130 - val_accuracy: 0.6507\n",
      "Epoch 38/50\n",
      "158/158 [==============================] - 0s 2ms/step - loss: 0.5797 - accuracy: 0.8201 - val_loss: 1.1181 - val_accuracy: 0.6603\n",
      "Epoch 39/50\n",
      "158/158 [==============================] - 0s 2ms/step - loss: 0.5666 - accuracy: 0.8232 - val_loss: 1.1387 - val_accuracy: 0.6304\n",
      "Epoch 40/50\n",
      "158/158 [==============================] - 0s 2ms/step - loss: 0.5596 - accuracy: 0.8266 - val_loss: 1.1661 - val_accuracy: 0.6256\n",
      "Epoch 41/50\n",
      "158/158 [==============================] - 0s 2ms/step - loss: 0.5513 - accuracy: 0.8261 - val_loss: 1.1197 - val_accuracy: 0.6376\n",
      "Epoch 42/50\n",
      "158/158 [==============================] - 0s 2ms/step - loss: 0.5420 - accuracy: 0.8308 - val_loss: 1.1628 - val_accuracy: 0.6256\n",
      "Epoch 43/50\n",
      "158/158 [==============================] - 0s 2ms/step - loss: 0.5314 - accuracy: 0.8344 - val_loss: 1.1283 - val_accuracy: 0.6304\n",
      "Epoch 44/50\n",
      "158/158 [==============================] - 0s 2ms/step - loss: 0.5242 - accuracy: 0.8373 - val_loss: 1.1265 - val_accuracy: 0.6411\n",
      "Epoch 45/50\n",
      "158/158 [==============================] - 0s 2ms/step - loss: 0.5204 - accuracy: 0.8392 - val_loss: 1.1067 - val_accuracy: 0.6543\n",
      "Epoch 46/50\n",
      "158/158 [==============================] - 0s 2ms/step - loss: 0.5151 - accuracy: 0.8401 - val_loss: 1.1958 - val_accuracy: 0.6232\n",
      "Epoch 47/50\n",
      "158/158 [==============================] - 0s 2ms/step - loss: 0.5067 - accuracy: 0.8448 - val_loss: 1.1702 - val_accuracy: 0.6435\n",
      "Epoch 48/50\n",
      "158/158 [==============================] - 0s 2ms/step - loss: 0.4972 - accuracy: 0.8437 - val_loss: 1.2250 - val_accuracy: 0.6112\n",
      "Epoch 49/50\n",
      "158/158 [==============================] - 0s 2ms/step - loss: 0.4877 - accuracy: 0.8467 - val_loss: 1.1640 - val_accuracy: 0.6280\n",
      "Epoch 50/50\n",
      "158/158 [==============================] - 0s 2ms/step - loss: 0.4840 - accuracy: 0.8479 - val_loss: 1.1365 - val_accuracy: 0.6376\n"
     ]
    },
    {
     "data": {
      "text/plain": [
       "<keras.callbacks.History at 0x224aa0ffdf0>"
      ]
     },
     "execution_count": 83,
     "metadata": {},
     "output_type": "execute_result"
    }
   ],
   "source": [
    "keras.backend.clear_session()\n",
    "model.fit(x_train, y_train, epochs = 50, batch_size = 50, validation_data = (x_test, y_test))"
   ]
  },
  {
   "cell_type": "code",
   "execution_count": 80,
   "id": "0be6d5bf-3454-48f0-81ab-0b6422732e9e",
   "metadata": {},
   "outputs": [
    {
     "name": "stdout",
     "output_type": "stream",
     "text": [
      "27/27 [==============================] - 0s 731us/step\n"
     ]
    },
    {
     "data": {
      "text/plain": [
       "(836,)"
      ]
     },
     "execution_count": 80,
     "metadata": {},
     "output_type": "execute_result"
    }
   ],
   "source": [
    "predictions = model.predict(x_test)\n",
    "predictions = np.apply_along_axis(lambda x : list(x).index(max(x)),1, predictions)\n",
    "predictions.shape"
   ]
  },
  {
   "cell_type": "code",
   "execution_count": 81,
   "id": "1a9b3d87-6e97-46e6-9641-4820ec8cad9d",
   "metadata": {},
   "outputs": [
    {
     "data": {
      "text/html": [
       "<div>\n",
       "<style scoped>\n",
       "    .dataframe tbody tr th:only-of-type {\n",
       "        vertical-align: middle;\n",
       "    }\n",
       "\n",
       "    .dataframe tbody tr th {\n",
       "        vertical-align: top;\n",
       "    }\n",
       "\n",
       "    .dataframe thead th {\n",
       "        text-align: right;\n",
       "    }\n",
       "</style>\n",
       "<table border=\"1\" class=\"dataframe\">\n",
       "  <thead>\n",
       "    <tr style=\"text-align: right;\">\n",
       "      <th></th>\n",
       "      <th>actual</th>\n",
       "      <th>Accuracy</th>\n",
       "      <th>names</th>\n",
       "    </tr>\n",
       "  </thead>\n",
       "  <tbody>\n",
       "    <tr>\n",
       "      <th>0</th>\n",
       "      <td>0.0</td>\n",
       "      <td>0.590000</td>\n",
       "      <td>air_conditioner</td>\n",
       "    </tr>\n",
       "    <tr>\n",
       "      <th>1</th>\n",
       "      <td>1.0</td>\n",
       "      <td>0.718750</td>\n",
       "      <td>car_horn</td>\n",
       "    </tr>\n",
       "    <tr>\n",
       "      <th>2</th>\n",
       "      <td>2.0</td>\n",
       "      <td>0.720000</td>\n",
       "      <td>children_playing</td>\n",
       "    </tr>\n",
       "    <tr>\n",
       "      <th>3</th>\n",
       "      <td>3.0</td>\n",
       "      <td>0.610000</td>\n",
       "      <td>dog_bark</td>\n",
       "    </tr>\n",
       "    <tr>\n",
       "      <th>4</th>\n",
       "      <td>4.0</td>\n",
       "      <td>0.710000</td>\n",
       "      <td>drilling</td>\n",
       "    </tr>\n",
       "    <tr>\n",
       "      <th>5</th>\n",
       "      <td>5.0</td>\n",
       "      <td>0.720430</td>\n",
       "      <td>engine_idling</td>\n",
       "    </tr>\n",
       "    <tr>\n",
       "      <th>6</th>\n",
       "      <td>6.0</td>\n",
       "      <td>0.687500</td>\n",
       "      <td>gun_shot</td>\n",
       "    </tr>\n",
       "    <tr>\n",
       "      <th>7</th>\n",
       "      <td>7.0</td>\n",
       "      <td>0.395833</td>\n",
       "      <td>jackhammer</td>\n",
       "    </tr>\n",
       "    <tr>\n",
       "      <th>8</th>\n",
       "      <td>8.0</td>\n",
       "      <td>0.493976</td>\n",
       "      <td>siren</td>\n",
       "    </tr>\n",
       "    <tr>\n",
       "      <th>9</th>\n",
       "      <td>9.0</td>\n",
       "      <td>0.740000</td>\n",
       "      <td>street_music</td>\n",
       "    </tr>\n",
       "  </tbody>\n",
       "</table>\n",
       "</div>"
      ],
      "text/plain": [
       "   actual  Accuracy             names\n",
       "0     0.0  0.590000   air_conditioner\n",
       "1     1.0  0.718750          car_horn\n",
       "2     2.0  0.720000  children_playing\n",
       "3     3.0  0.610000          dog_bark\n",
       "4     4.0  0.710000          drilling\n",
       "5     5.0  0.720430     engine_idling\n",
       "6     6.0  0.687500          gun_shot\n",
       "7     7.0  0.395833        jackhammer\n",
       "8     8.0  0.493976             siren\n",
       "9     9.0  0.740000      street_music"
      ]
     },
     "execution_count": 81,
     "metadata": {},
     "output_type": "execute_result"
    }
   ],
   "source": [
    "pd.DataFrame({\n",
    "    \"prediction\" : predictions,\n",
    "    \"actual\" : y_test\n",
    "}).groupby(\"actual\") \\\n",
    "    .apply(lambda x:x[\"prediction\"]==x[\"actual\"]) \\\n",
    "    .groupby(\"actual\") \\\n",
    "    .agg(Accuracy = 'mean') \\\n",
    "    .reset_index() \\\n",
    "    .assign(names=[\n",
    "        \"air_conditioner\",\n",
    "        \"car_horn\",\n",
    "        \"children_playing\",\n",
    "        \"dog_bark\",\n",
    "        \"drilling\",\n",
    "        \"engine_idling\",\n",
    "        \"gun_shot\",\n",
    "        \"jackhammer\",\n",
    "        \"siren\",\n",
    "        \"street_music\"\n",
    "    ])"
   ]
  },
  {
   "cell_type": "markdown",
   "id": "38168fac-f614-43e7-80b3-d17c2be12130",
   "metadata": {},
   "source": [
    "### GoogleNet"
   ]
  },
  {
   "cell_type": "code",
   "execution_count": 34,
   "id": "3ca77042-5237-4031-9e9b-5d3cab2e26da",
   "metadata": {},
   "outputs": [],
   "source": [
    "input_shape = Input(shape=(40, 5, 1))"
   ]
  },
  {
   "cell_type": "code",
   "execution_count": 37,
   "id": "ffd54f3c-e5f8-44ee-b253-a6cc7441bd6b",
   "metadata": {},
   "outputs": [],
   "source": [
    "### 1st layer\n",
    "layer_1 = Conv2D(10, (1,1), padding='same', activation='relu')(input_shape)\n",
    "layer_1 = Conv2D(10, (3,3), padding='same', activation='relu')(layer_1)\n",
    "\n",
    "layer_2 = Conv2D(10, (1,1), padding='same', activation='relu')(input_shape)\n",
    "layer_2 = Conv2D(10, (5,5), padding='same', activation='relu')(layer_2)\n",
    "\n",
    "layer_3 = MaxPool2D((3,3), strides=(1,1), padding='same')(input_shape)\n",
    "layer_3 = Conv2D(10, (1,1), padding='same', activation='relu')(layer_3)\n",
    "\n",
    "mid_1 = keras.layers.concatenate([layer_1, layer_2, layer_3], axis = 3)"
   ]
  },
  {
   "cell_type": "code",
   "execution_count": 39,
   "id": "42c7c632-e0f9-4615-b728-37e2d1231b17",
   "metadata": {},
   "outputs": [],
   "source": [
    "flat_1 = Flatten()(mid_1)\n",
    "\n",
    "dense_1 = Dense(1200, activation='relu')(flat_1)\n",
    "dense_2 = Dense(600, activation='relu')(dense_1)\n",
    "dense_3 = Dense(150, activation='relu')(dense_2)\n",
    "output = Dense(num_classes, activation='softmax')(dense_3)"
   ]
  },
  {
   "cell_type": "code",
   "execution_count": 43,
   "id": "e32e500c-6ae1-4d68-af5c-c714c1a2d5c5",
   "metadata": {},
   "outputs": [],
   "source": [
    "model = Model([input_shape], output)"
   ]
  },
  {
   "cell_type": "code",
   "execution_count": 44,
   "id": "e02099d2-374d-4bbe-9a1c-801a831dfc62",
   "metadata": {},
   "outputs": [
    {
     "name": "stderr",
     "output_type": "stream",
     "text": [
      "C:\\Users\\EmmaC\\Anaconda3\\lib\\site-packages\\keras\\optimizers\\optimizer_v2\\adam.py:110: UserWarning: The `lr` argument is deprecated, use `learning_rate` instead.\n",
      "  super(Adam, self).__init__(name, **kwargs)\n"
     ]
    }
   ],
   "source": [
    "optimizer = keras.optimizers.Adam(lr=1e-4)\n",
    "model.compile(optimizer = optimizer, loss = 'sparse_categorical_crossentropy', metrics = ['accuracy'])"
   ]
  },
  {
   "cell_type": "code",
   "execution_count": 45,
   "id": "e89c5e5a-71a0-4183-ab58-9a1bdf143549",
   "metadata": {},
   "outputs": [
    {
     "name": "stdout",
     "output_type": "stream",
     "text": [
      "Epoch 1/50\n",
      "158/158 [==============================] - 6s 36ms/step - loss: 1.4690 - accuracy: 0.5438 - val_loss: 1.3854 - val_accuracy: 0.5060\n",
      "Epoch 2/50\n",
      "158/158 [==============================] - 6s 37ms/step - loss: 0.8349 - accuracy: 0.7299 - val_loss: 1.0893 - val_accuracy: 0.6878\n",
      "Epoch 3/50\n",
      "158/158 [==============================] - 6s 37ms/step - loss: 0.5936 - accuracy: 0.8173 - val_loss: 1.1013 - val_accuracy: 0.6842\n",
      "Epoch 4/50\n",
      "158/158 [==============================] - 6s 36ms/step - loss: 0.4463 - accuracy: 0.8661 - val_loss: 1.1497 - val_accuracy: 0.6854\n",
      "Epoch 5/50\n",
      "158/158 [==============================] - 6s 36ms/step - loss: 0.3801 - accuracy: 0.8817 - val_loss: 1.0787 - val_accuracy: 0.6962\n",
      "Epoch 6/50\n",
      "158/158 [==============================] - 6s 37ms/step - loss: 0.3319 - accuracy: 0.8999 - val_loss: 1.1257 - val_accuracy: 0.7153\n",
      "Epoch 7/50\n",
      "158/158 [==============================] - 6s 36ms/step - loss: 0.2899 - accuracy: 0.9151 - val_loss: 1.3297 - val_accuracy: 0.6400\n",
      "Epoch 8/50\n",
      "158/158 [==============================] - 6s 36ms/step - loss: 0.2606 - accuracy: 0.9249 - val_loss: 1.3022 - val_accuracy: 0.6830\n",
      "Epoch 9/50\n",
      "158/158 [==============================] - 6s 37ms/step - loss: 0.2194 - accuracy: 0.9386 - val_loss: 1.3204 - val_accuracy: 0.6830\n",
      "Epoch 10/50\n",
      "158/158 [==============================] - 6s 36ms/step - loss: 0.1954 - accuracy: 0.9468 - val_loss: 1.3223 - val_accuracy: 0.6986\n",
      "Epoch 11/50\n",
      "158/158 [==============================] - 6s 36ms/step - loss: 0.1407 - accuracy: 0.9607 - val_loss: 1.3018 - val_accuracy: 0.6806\n",
      "Epoch 12/50\n",
      "158/158 [==============================] - 6s 36ms/step - loss: 0.1421 - accuracy: 0.9568 - val_loss: 1.2432 - val_accuracy: 0.6926\n",
      "Epoch 13/50\n",
      "158/158 [==============================] - 6s 36ms/step - loss: 0.1021 - accuracy: 0.9700 - val_loss: 1.2789 - val_accuracy: 0.6687\n",
      "Epoch 14/50\n",
      "158/158 [==============================] - 6s 37ms/step - loss: 0.0891 - accuracy: 0.9740 - val_loss: 1.4329 - val_accuracy: 0.6734\n",
      "Epoch 15/50\n",
      "158/158 [==============================] - 6s 36ms/step - loss: 0.1061 - accuracy: 0.9742 - val_loss: 1.4658 - val_accuracy: 0.7057\n",
      "Epoch 16/50\n",
      "158/158 [==============================] - 6s 37ms/step - loss: 0.0866 - accuracy: 0.9761 - val_loss: 1.4984 - val_accuracy: 0.6890\n",
      "Epoch 17/50\n",
      "158/158 [==============================] - 6s 36ms/step - loss: 0.0875 - accuracy: 0.9766 - val_loss: 1.4319 - val_accuracy: 0.7033\n",
      "Epoch 18/50\n",
      "158/158 [==============================] - 6s 36ms/step - loss: 0.0620 - accuracy: 0.9830 - val_loss: 1.4906 - val_accuracy: 0.6974\n",
      "Epoch 19/50\n",
      "158/158 [==============================] - 6s 36ms/step - loss: 0.0601 - accuracy: 0.9839 - val_loss: 1.4852 - val_accuracy: 0.6890\n",
      "Epoch 20/50\n",
      "158/158 [==============================] - 6s 37ms/step - loss: 0.0504 - accuracy: 0.9872 - val_loss: 1.6630 - val_accuracy: 0.6854\n",
      "Epoch 21/50\n",
      "158/158 [==============================] - 6s 37ms/step - loss: 0.0459 - accuracy: 0.9861 - val_loss: 1.7249 - val_accuracy: 0.6758\n",
      "Epoch 22/50\n",
      "158/158 [==============================] - 6s 37ms/step - loss: 0.0432 - accuracy: 0.9881 - val_loss: 1.7047 - val_accuracy: 0.6579\n",
      "Epoch 23/50\n",
      "158/158 [==============================] - 6s 37ms/step - loss: 0.0384 - accuracy: 0.9901 - val_loss: 1.5943 - val_accuracy: 0.6974\n",
      "Epoch 24/50\n",
      "158/158 [==============================] - 6s 37ms/step - loss: 0.0475 - accuracy: 0.9885 - val_loss: 2.2141 - val_accuracy: 0.6483\n",
      "Epoch 25/50\n",
      "158/158 [==============================] - 6s 36ms/step - loss: 0.2034 - accuracy: 0.9519 - val_loss: 1.6139 - val_accuracy: 0.6699\n",
      "Epoch 26/50\n",
      "158/158 [==============================] - 6s 36ms/step - loss: 0.1402 - accuracy: 0.9661 - val_loss: 1.6380 - val_accuracy: 0.6794\n",
      "Epoch 27/50\n",
      "158/158 [==============================] - 6s 36ms/step - loss: 0.0495 - accuracy: 0.9870 - val_loss: 1.6894 - val_accuracy: 0.6663\n",
      "Epoch 28/50\n",
      "158/158 [==============================] - 6s 37ms/step - loss: 0.0388 - accuracy: 0.9905 - val_loss: 1.7177 - val_accuracy: 0.6986\n",
      "Epoch 29/50\n",
      "158/158 [==============================] - 6s 36ms/step - loss: 0.0372 - accuracy: 0.9896 - val_loss: 1.6417 - val_accuracy: 0.6842\n",
      "Epoch 30/50\n",
      "158/158 [==============================] - 6s 38ms/step - loss: 0.0318 - accuracy: 0.9909 - val_loss: 1.8400 - val_accuracy: 0.6687\n",
      "Epoch 31/50\n",
      "158/158 [==============================] - 6s 39ms/step - loss: 0.0393 - accuracy: 0.9906 - val_loss: 1.9397 - val_accuracy: 0.6627\n",
      "Epoch 32/50\n",
      "158/158 [==============================] - 6s 37ms/step - loss: 0.0308 - accuracy: 0.9904 - val_loss: 1.9814 - val_accuracy: 0.6794\n",
      "Epoch 33/50\n",
      "158/158 [==============================] - 6s 37ms/step - loss: 0.0320 - accuracy: 0.9911 - val_loss: 1.7742 - val_accuracy: 0.6627\n",
      "Epoch 34/50\n",
      "158/158 [==============================] - 6s 37ms/step - loss: 0.0437 - accuracy: 0.9862 - val_loss: 1.9195 - val_accuracy: 0.6699\n",
      "Epoch 35/50\n",
      "158/158 [==============================] - 6s 37ms/step - loss: 0.0212 - accuracy: 0.9942 - val_loss: 2.0020 - val_accuracy: 0.6914\n",
      "Epoch 36/50\n",
      "158/158 [==============================] - 6s 37ms/step - loss: 0.0168 - accuracy: 0.9948 - val_loss: 1.9126 - val_accuracy: 0.6842\n",
      "Epoch 37/50\n",
      "158/158 [==============================] - 6s 36ms/step - loss: 0.0173 - accuracy: 0.9953 - val_loss: 2.0125 - val_accuracy: 0.6902\n",
      "Epoch 38/50\n",
      "158/158 [==============================] - 6s 36ms/step - loss: 0.0128 - accuracy: 0.9966 - val_loss: 2.0053 - val_accuracy: 0.6830\n",
      "Epoch 39/50\n",
      "158/158 [==============================] - 6s 37ms/step - loss: 0.0203 - accuracy: 0.9946 - val_loss: 1.8576 - val_accuracy: 0.6651\n",
      "Epoch 40/50\n",
      "158/158 [==============================] - 6s 36ms/step - loss: 0.0130 - accuracy: 0.9958 - val_loss: 1.9387 - val_accuracy: 0.6854\n",
      "Epoch 41/50\n",
      "158/158 [==============================] - 6s 37ms/step - loss: 0.0554 - accuracy: 0.9802 - val_loss: 1.6940 - val_accuracy: 0.6782\n",
      "Epoch 42/50\n",
      "158/158 [==============================] - 6s 37ms/step - loss: 0.1022 - accuracy: 0.9728 - val_loss: 1.8741 - val_accuracy: 0.6400\n",
      "Epoch 43/50\n",
      "158/158 [==============================] - 6s 37ms/step - loss: 0.0956 - accuracy: 0.9809 - val_loss: 1.9714 - val_accuracy: 0.6627\n",
      "Epoch 44/50\n",
      "158/158 [==============================] - 6s 37ms/step - loss: 0.0408 - accuracy: 0.9890 - val_loss: 1.9966 - val_accuracy: 0.6746\n",
      "Epoch 45/50\n",
      "158/158 [==============================] - 6s 37ms/step - loss: 0.0219 - accuracy: 0.9942 - val_loss: 2.0963 - val_accuracy: 0.6854\n",
      "Epoch 46/50\n",
      "158/158 [==============================] - 6s 38ms/step - loss: 0.0122 - accuracy: 0.9953 - val_loss: 1.9473 - val_accuracy: 0.6830\n",
      "Epoch 47/50\n",
      "158/158 [==============================] - 6s 38ms/step - loss: 0.0128 - accuracy: 0.9970 - val_loss: 2.0531 - val_accuracy: 0.6746\n",
      "Epoch 48/50\n",
      "158/158 [==============================] - 6s 37ms/step - loss: 0.0121 - accuracy: 0.9953 - val_loss: 1.9786 - val_accuracy: 0.7045\n",
      "Epoch 49/50\n",
      "158/158 [==============================] - 6s 37ms/step - loss: 0.0115 - accuracy: 0.9954 - val_loss: 2.2631 - val_accuracy: 0.6758\n",
      "Epoch 50/50\n",
      "158/158 [==============================] - 6s 37ms/step - loss: 0.0185 - accuracy: 0.9937 - val_loss: 2.2232 - val_accuracy: 0.6615\n"
     ]
    },
    {
     "data": {
      "text/plain": [
       "<keras.callbacks.History at 0x224e8c70f70>"
      ]
     },
     "execution_count": 45,
     "metadata": {},
     "output_type": "execute_result"
    }
   ],
   "source": [
    "keras.backend.clear_session()\n",
    "model.fit(x_train, y_train, epochs = 50, batch_size = 50, validation_data = (x_test, y_test))"
   ]
  },
  {
   "cell_type": "code",
   "execution_count": 46,
   "id": "a2dcfe78-6886-4a10-b83f-697cb76fcca7",
   "metadata": {},
   "outputs": [
    {
     "name": "stdout",
     "output_type": "stream",
     "text": [
      "27/27 [==============================] - 0s 5ms/step\n"
     ]
    },
    {
     "data": {
      "text/plain": [
       "(836,)"
      ]
     },
     "execution_count": 46,
     "metadata": {},
     "output_type": "execute_result"
    }
   ],
   "source": [
    "predictions = model.predict(x_test)\n",
    "predictions = np.apply_along_axis(lambda x : list(x).index(max(x)),1, predictions)\n",
    "predictions.shape"
   ]
  },
  {
   "cell_type": "code",
   "execution_count": 47,
   "id": "247722bb-4d36-4af0-811d-c140012e1385",
   "metadata": {},
   "outputs": [
    {
     "data": {
      "text/html": [
       "<div>\n",
       "<style scoped>\n",
       "    .dataframe tbody tr th:only-of-type {\n",
       "        vertical-align: middle;\n",
       "    }\n",
       "\n",
       "    .dataframe tbody tr th {\n",
       "        vertical-align: top;\n",
       "    }\n",
       "\n",
       "    .dataframe thead th {\n",
       "        text-align: right;\n",
       "    }\n",
       "</style>\n",
       "<table border=\"1\" class=\"dataframe\">\n",
       "  <thead>\n",
       "    <tr style=\"text-align: right;\">\n",
       "      <th></th>\n",
       "      <th>actual</th>\n",
       "      <th>Accuracy</th>\n",
       "      <th>names</th>\n",
       "    </tr>\n",
       "  </thead>\n",
       "  <tbody>\n",
       "    <tr>\n",
       "      <th>0</th>\n",
       "      <td>0.0</td>\n",
       "      <td>0.490000</td>\n",
       "      <td>air_conditioner</td>\n",
       "    </tr>\n",
       "    <tr>\n",
       "      <th>1</th>\n",
       "      <td>1.0</td>\n",
       "      <td>0.812500</td>\n",
       "      <td>car_horn</td>\n",
       "    </tr>\n",
       "    <tr>\n",
       "      <th>2</th>\n",
       "      <td>2.0</td>\n",
       "      <td>0.640000</td>\n",
       "      <td>children_playing</td>\n",
       "    </tr>\n",
       "    <tr>\n",
       "      <th>3</th>\n",
       "      <td>3.0</td>\n",
       "      <td>0.830000</td>\n",
       "      <td>dog_bark</td>\n",
       "    </tr>\n",
       "    <tr>\n",
       "      <th>4</th>\n",
       "      <td>4.0</td>\n",
       "      <td>0.660000</td>\n",
       "      <td>drilling</td>\n",
       "    </tr>\n",
       "    <tr>\n",
       "      <th>5</th>\n",
       "      <td>5.0</td>\n",
       "      <td>0.623656</td>\n",
       "      <td>engine_idling</td>\n",
       "    </tr>\n",
       "    <tr>\n",
       "      <th>6</th>\n",
       "      <td>6.0</td>\n",
       "      <td>0.906250</td>\n",
       "      <td>gun_shot</td>\n",
       "    </tr>\n",
       "    <tr>\n",
       "      <th>7</th>\n",
       "      <td>7.0</td>\n",
       "      <td>0.666667</td>\n",
       "      <td>jackhammer</td>\n",
       "    </tr>\n",
       "    <tr>\n",
       "      <th>8</th>\n",
       "      <td>8.0</td>\n",
       "      <td>0.566265</td>\n",
       "      <td>siren</td>\n",
       "    </tr>\n",
       "    <tr>\n",
       "      <th>9</th>\n",
       "      <td>9.0</td>\n",
       "      <td>0.670000</td>\n",
       "      <td>street_music</td>\n",
       "    </tr>\n",
       "  </tbody>\n",
       "</table>\n",
       "</div>"
      ],
      "text/plain": [
       "   actual  Accuracy             names\n",
       "0     0.0  0.490000   air_conditioner\n",
       "1     1.0  0.812500          car_horn\n",
       "2     2.0  0.640000  children_playing\n",
       "3     3.0  0.830000          dog_bark\n",
       "4     4.0  0.660000          drilling\n",
       "5     5.0  0.623656     engine_idling\n",
       "6     6.0  0.906250          gun_shot\n",
       "7     7.0  0.666667        jackhammer\n",
       "8     8.0  0.566265             siren\n",
       "9     9.0  0.670000      street_music"
      ]
     },
     "execution_count": 47,
     "metadata": {},
     "output_type": "execute_result"
    }
   ],
   "source": [
    "pd.DataFrame({\n",
    "    \"prediction\" : predictions,\n",
    "    \"actual\" : y_test\n",
    "}).groupby(\"actual\") \\\n",
    "    .apply(lambda x:x[\"prediction\"]==x[\"actual\"]) \\\n",
    "    .groupby(\"actual\") \\\n",
    "    .agg(Accuracy = 'mean') \\\n",
    "    .reset_index() \\\n",
    "    .assign(names=[\n",
    "        \"air_conditioner\",\n",
    "        \"car_horn\",\n",
    "        \"children_playing\",\n",
    "        \"dog_bark\",\n",
    "        \"drilling\",\n",
    "        \"engine_idling\",\n",
    "        \"gun_shot\",\n",
    "        \"jackhammer\",\n",
    "        \"siren\",\n",
    "        \"street_music\"\n",
    "    ])"
   ]
  },
  {
   "cell_type": "markdown",
   "id": "b0ffb231-e473-46f0-bc31-0631177eccd8",
   "metadata": {},
   "source": [
    "### VGG-16"
   ]
  },
  {
   "cell_type": "code",
   "execution_count": 67,
   "id": "7b86c6f1-d353-4b87-ab16-7eff6f55cf30",
   "metadata": {},
   "outputs": [],
   "source": [
    "pool_size = (2, 2)\n",
    "kernel_size = (3, 3)\n",
    "input_shape = (40, 5, 1)\n",
    "num_classes = 10"
   ]
  },
  {
   "cell_type": "code",
   "execution_count": 68,
   "id": "cb0cf522-7ef1-4031-bbbd-190b17d4fd09",
   "metadata": {},
   "outputs": [],
   "source": [
    "model = Sequential()\n",
    "model.add(Conv2D(input_shape=(40,5,1),filters=64,kernel_size=(3,3),padding=\"same\", activation=\"relu\"))\n",
    "model.add(Conv2D(filters=64,kernel_size=(3,3),padding=\"same\", activation=\"relu\"))\n",
    "model.add(MaxPool2D(pool_size=(2,2),strides=(2,2),padding=\"same\"))\n",
    "model.add(Conv2D(filters=128, kernel_size=(3,3), padding=\"same\", activation=\"relu\"))\n",
    "model.add(Conv2D(filters=128, kernel_size=(3,3), padding=\"same\", activation=\"relu\"))\n",
    "model.add(MaxPool2D(pool_size=(2,2),strides=(2,2),padding=\"same\"))\n",
    "model.add(Conv2D(filters=256, kernel_size=(3,3), padding=\"same\", activation=\"relu\"))\n",
    "model.add(Conv2D(filters=256, kernel_size=(3,3), padding=\"same\", activation=\"relu\"))\n",
    "model.add(Conv2D(filters=256, kernel_size=(3,3), padding=\"same\", activation=\"relu\"))\n",
    "model.add(MaxPool2D(pool_size=(2,2),strides=(2,2),padding='same'))\n",
    "model.add(Conv2D(filters=512, kernel_size=(3,3), padding=\"same\", activation=\"relu\"))\n",
    "model.add(Conv2D(filters=512, kernel_size=(3,3), padding=\"same\", activation=\"relu\"))\n",
    "model.add(Conv2D(filters=512, kernel_size=(3,3), padding=\"same\", activation=\"relu\"))\n",
    "model.add(MaxPool2D(pool_size=(2,2),strides=(2,2),padding='same'))\n",
    "model.add(Conv2D(filters=512, kernel_size=(3,3), padding=\"same\", activation=\"relu\"))\n",
    "model.add(Conv2D(filters=512, kernel_size=(3,3), padding=\"same\", activation=\"relu\"))\n",
    "model.add(Conv2D(filters=512, kernel_size=(3,3), padding=\"same\", activation=\"relu\"))\n",
    "model.add(MaxPool2D(pool_size=(2,2),strides=(2,2),padding='same'))\n",
    "\n",
    "model.add(Flatten())\n",
    "model.add(Dense(units=4096,activation=\"relu\"))\n",
    "model.add(Dense(units=4096,activation=\"relu\"))\n",
    "model.add(Dense(units=1, activation=\"softmax\"))"
   ]
  },
  {
   "cell_type": "code",
   "execution_count": 72,
   "id": "b2e439c6-951e-4186-8065-590be0a85760",
   "metadata": {},
   "outputs": [],
   "source": [
    "optimizer = keras.optimizers.Adam(lr=1e-3)\n",
    "model.compile(optimizer = optimizer, loss = 'categorical_crossentropy', metrics = ['accuracy'])"
   ]
  },
  {
   "cell_type": "code",
   "execution_count": 73,
   "id": "709af58d-a638-4aaa-8f56-9f31c99e9b65",
   "metadata": {},
   "outputs": [
    {
     "name": "stdout",
     "output_type": "stream",
     "text": [
      "Epoch 1/50\n",
      "158/158 [==============================] - 86s 543ms/step - loss: 0.0000e+00 - accuracy: 0.0502 - val_loss: 0.0000e+00 - val_accuracy: 0.0383\n",
      "Epoch 2/50\n",
      "158/158 [==============================] - 86s 545ms/step - loss: 0.0000e+00 - accuracy: 0.0502 - val_loss: 0.0000e+00 - val_accuracy: 0.0383\n",
      "Epoch 3/50\n",
      "158/158 [==============================] - 86s 545ms/step - loss: 0.0000e+00 - accuracy: 0.0502 - val_loss: 0.0000e+00 - val_accuracy: 0.0383\n",
      "Epoch 4/50\n",
      "158/158 [==============================] - 86s 545ms/step - loss: 0.0000e+00 - accuracy: 0.0502 - val_loss: 0.0000e+00 - val_accuracy: 0.0383\n",
      "Epoch 5/50\n",
      "158/158 [==============================] - 87s 548ms/step - loss: 0.0000e+00 - accuracy: 0.0502 - val_loss: 0.0000e+00 - val_accuracy: 0.0383\n",
      "Epoch 6/50\n",
      "158/158 [==============================] - 87s 552ms/step - loss: 0.0000e+00 - accuracy: 0.0502 - val_loss: 0.0000e+00 - val_accuracy: 0.0383\n",
      "Epoch 7/50\n",
      "158/158 [==============================] - 86s 547ms/step - loss: 0.0000e+00 - accuracy: 0.0502 - val_loss: 0.0000e+00 - val_accuracy: 0.0383\n",
      "Epoch 8/50\n",
      "158/158 [==============================] - 86s 547ms/step - loss: 0.0000e+00 - accuracy: 0.0502 - val_loss: 0.0000e+00 - val_accuracy: 0.0383\n",
      "Epoch 9/50\n",
      "158/158 [==============================] - 89s 566ms/step - loss: nan - accuracy: 0.0835 - val_loss: nan - val_accuracy: 0.1196\n",
      "Epoch 10/50\n",
      "158/158 [==============================] - 87s 553ms/step - loss: nan - accuracy: 0.1140 - val_loss: nan - val_accuracy: 0.1196\n",
      "Epoch 11/50\n",
      "158/158 [==============================] - 87s 550ms/step - loss: nan - accuracy: 0.1140 - val_loss: nan - val_accuracy: 0.1196\n",
      "Epoch 12/50\n",
      "158/158 [==============================] - 87s 549ms/step - loss: nan - accuracy: 0.1140 - val_loss: nan - val_accuracy: 0.1196\n",
      "Epoch 13/50\n",
      "158/158 [==============================] - 87s 549ms/step - loss: nan - accuracy: 0.1140 - val_loss: nan - val_accuracy: 0.1196\n",
      "Epoch 14/50\n",
      "158/158 [==============================] - 87s 553ms/step - loss: nan - accuracy: 0.1140 - val_loss: nan - val_accuracy: 0.1196\n",
      "Epoch 15/50\n",
      "158/158 [==============================] - 87s 553ms/step - loss: nan - accuracy: 0.1140 - val_loss: nan - val_accuracy: 0.1196\n",
      "Epoch 16/50\n",
      "158/158 [==============================] - 87s 550ms/step - loss: nan - accuracy: 0.1140 - val_loss: nan - val_accuracy: 0.1196\n",
      "Epoch 17/50\n",
      "158/158 [==============================] - 87s 550ms/step - loss: nan - accuracy: 0.1140 - val_loss: nan - val_accuracy: 0.1196\n",
      "Epoch 18/50\n",
      "158/158 [==============================] - 87s 551ms/step - loss: nan - accuracy: 0.1140 - val_loss: nan - val_accuracy: 0.1196\n",
      "Epoch 19/50\n",
      "158/158 [==============================] - 87s 552ms/step - loss: nan - accuracy: 0.1140 - val_loss: nan - val_accuracy: 0.1196\n",
      "Epoch 20/50\n",
      "158/158 [==============================] - 88s 555ms/step - loss: nan - accuracy: 0.1140 - val_loss: nan - val_accuracy: 0.1196\n",
      "Epoch 21/50\n",
      "158/158 [==============================] - 87s 550ms/step - loss: nan - accuracy: 0.1140 - val_loss: nan - val_accuracy: 0.1196\n",
      "Epoch 22/50\n",
      "158/158 [==============================] - 87s 548ms/step - loss: nan - accuracy: 0.1140 - val_loss: nan - val_accuracy: 0.1196\n",
      "Epoch 23/50\n",
      "158/158 [==============================] - 87s 551ms/step - loss: nan - accuracy: 0.1140 - val_loss: nan - val_accuracy: 0.1196\n",
      "Epoch 24/50\n",
      "158/158 [==============================] - 87s 548ms/step - loss: nan - accuracy: 0.1140 - val_loss: nan - val_accuracy: 0.1196\n",
      "Epoch 25/50\n",
      "158/158 [==============================] - 83s 525ms/step - loss: nan - accuracy: 0.1140 - val_loss: nan - val_accuracy: 0.1196\n",
      "Epoch 26/50\n",
      "158/158 [==============================] - 83s 522ms/step - loss: nan - accuracy: 0.1140 - val_loss: nan - val_accuracy: 0.1196\n",
      "Epoch 27/50\n",
      "158/158 [==============================] - 83s 524ms/step - loss: nan - accuracy: 0.1140 - val_loss: nan - val_accuracy: 0.1196\n",
      "Epoch 28/50\n",
      "158/158 [==============================] - 82s 521ms/step - loss: nan - accuracy: 0.1140 - val_loss: nan - val_accuracy: 0.1196\n",
      "Epoch 29/50\n",
      "158/158 [==============================] - 83s 525ms/step - loss: nan - accuracy: 0.1140 - val_loss: nan - val_accuracy: 0.1196\n",
      "Epoch 30/50\n",
      "158/158 [==============================] - 82s 521ms/step - loss: nan - accuracy: 0.1140 - val_loss: nan - val_accuracy: 0.1196\n",
      "Epoch 31/50\n",
      "158/158 [==============================] - 83s 522ms/step - loss: nan - accuracy: 0.1140 - val_loss: nan - val_accuracy: 0.1196\n",
      "Epoch 32/50\n",
      "158/158 [==============================] - 83s 522ms/step - loss: nan - accuracy: 0.1140 - val_loss: nan - val_accuracy: 0.1196\n",
      "Epoch 33/50\n",
      "158/158 [==============================] - 83s 526ms/step - loss: nan - accuracy: 0.1140 - val_loss: nan - val_accuracy: 0.1196\n",
      "Epoch 34/50\n",
      "158/158 [==============================] - 82s 521ms/step - loss: nan - accuracy: 0.1140 - val_loss: nan - val_accuracy: 0.1196\n",
      "Epoch 35/50\n",
      "158/158 [==============================] - 82s 520ms/step - loss: nan - accuracy: 0.1140 - val_loss: nan - val_accuracy: 0.1196\n",
      "Epoch 36/50\n",
      "158/158 [==============================] - 82s 519ms/step - loss: nan - accuracy: 0.1140 - val_loss: nan - val_accuracy: 0.1196\n",
      "Epoch 37/50\n",
      "158/158 [==============================] - 82s 518ms/step - loss: nan - accuracy: 0.1140 - val_loss: nan - val_accuracy: 0.1196\n",
      "Epoch 38/50\n",
      "158/158 [==============================] - 81s 514ms/step - loss: nan - accuracy: 0.1140 - val_loss: nan - val_accuracy: 0.1196\n",
      "Epoch 39/50\n",
      "158/158 [==============================] - 82s 519ms/step - loss: nan - accuracy: 0.1140 - val_loss: nan - val_accuracy: 0.1196\n",
      "Epoch 40/50\n",
      "158/158 [==============================] - 82s 521ms/step - loss: nan - accuracy: 0.1140 - val_loss: nan - val_accuracy: 0.1196\n",
      "Epoch 41/50\n",
      "158/158 [==============================] - 82s 522ms/step - loss: nan - accuracy: 0.1140 - val_loss: nan - val_accuracy: 0.1196\n",
      "Epoch 42/50\n",
      "158/158 [==============================] - 82s 521ms/step - loss: nan - accuracy: 0.1140 - val_loss: nan - val_accuracy: 0.1196\n",
      "Epoch 43/50\n",
      "158/158 [==============================] - 82s 520ms/step - loss: nan - accuracy: 0.1140 - val_loss: nan - val_accuracy: 0.1196\n",
      "Epoch 44/50\n",
      "158/158 [==============================] - 82s 520ms/step - loss: nan - accuracy: 0.1140 - val_loss: nan - val_accuracy: 0.1196\n",
      "Epoch 45/50\n",
      "158/158 [==============================] - 83s 524ms/step - loss: nan - accuracy: 0.1140 - val_loss: nan - val_accuracy: 0.1196\n",
      "Epoch 46/50\n",
      "158/158 [==============================] - 83s 522ms/step - loss: nan - accuracy: 0.1140 - val_loss: nan - val_accuracy: 0.1196\n",
      "Epoch 47/50\n",
      "158/158 [==============================] - 83s 524ms/step - loss: nan - accuracy: 0.1140 - val_loss: nan - val_accuracy: 0.1196\n",
      "Epoch 48/50\n",
      "158/158 [==============================] - 82s 521ms/step - loss: nan - accuracy: 0.1140 - val_loss: nan - val_accuracy: 0.1196\n",
      "Epoch 49/50\n",
      "158/158 [==============================] - 82s 522ms/step - loss: nan - accuracy: 0.1140 - val_loss: nan - val_accuracy: 0.1196\n",
      "Epoch 50/50\n",
      "158/158 [==============================] - 83s 524ms/step - loss: nan - accuracy: 0.1140 - val_loss: nan - val_accuracy: 0.1196\n"
     ]
    },
    {
     "data": {
      "text/plain": [
       "<keras.callbacks.History at 0x224a77661c0>"
      ]
     },
     "execution_count": 73,
     "metadata": {},
     "output_type": "execute_result"
    }
   ],
   "source": [
    "keras.backend.clear_session()\n",
    "model.fit(x_train, y_train, epochs = 50, batch_size = 50, validation_data = (x_test, y_test))"
   ]
  },
  {
   "cell_type": "code",
   "execution_count": 74,
   "id": "154d392b-0e96-4c05-90b9-d410647c44e5",
   "metadata": {},
   "outputs": [
    {
     "name": "stdout",
     "output_type": "stream",
     "text": [
      "27/27 [==============================] - 1s 24ms/step\n"
     ]
    },
    {
     "ename": "ValueError",
     "evalue": "nan is not in list",
     "output_type": "error",
     "traceback": [
      "\u001b[1;31m---------------------------------------------------------------------------\u001b[0m",
      "\u001b[1;31mValueError\u001b[0m                                Traceback (most recent call last)",
      "Input \u001b[1;32mIn [74]\u001b[0m, in \u001b[0;36m<cell line: 2>\u001b[1;34m()\u001b[0m\n\u001b[0;32m      1\u001b[0m predictions \u001b[38;5;241m=\u001b[39m model\u001b[38;5;241m.\u001b[39mpredict(x_test)\n\u001b[1;32m----> 2\u001b[0m predictions \u001b[38;5;241m=\u001b[39m \u001b[43mnp\u001b[49m\u001b[38;5;241;43m.\u001b[39;49m\u001b[43mapply_along_axis\u001b[49m\u001b[43m(\u001b[49m\u001b[38;5;28;43;01mlambda\u001b[39;49;00m\u001b[43m \u001b[49m\u001b[43mx\u001b[49m\u001b[43m \u001b[49m\u001b[43m:\u001b[49m\u001b[43m \u001b[49m\u001b[38;5;28;43mlist\u001b[39;49m\u001b[43m(\u001b[49m\u001b[43mx\u001b[49m\u001b[43m)\u001b[49m\u001b[38;5;241;43m.\u001b[39;49m\u001b[43mindex\u001b[49m\u001b[43m(\u001b[49m\u001b[38;5;28;43mmax\u001b[39;49m\u001b[43m(\u001b[49m\u001b[43mx\u001b[49m\u001b[43m)\u001b[49m\u001b[43m)\u001b[49m\u001b[43m,\u001b[49m\u001b[38;5;241;43m1\u001b[39;49m\u001b[43m,\u001b[49m\u001b[43m \u001b[49m\u001b[43mpredictions\u001b[49m\u001b[43m)\u001b[49m\n\u001b[0;32m      3\u001b[0m predictions\u001b[38;5;241m.\u001b[39mshape\n",
      "File \u001b[1;32m<__array_function__ internals>:5\u001b[0m, in \u001b[0;36mapply_along_axis\u001b[1;34m(*args, **kwargs)\u001b[0m\n",
      "File \u001b[1;32m~\\Anaconda3\\lib\\site-packages\\numpy\\lib\\shape_base.py:379\u001b[0m, in \u001b[0;36mapply_along_axis\u001b[1;34m(func1d, axis, arr, *args, **kwargs)\u001b[0m\n\u001b[0;32m    375\u001b[0m \u001b[38;5;28;01mexcept\u001b[39;00m \u001b[38;5;167;01mStopIteration\u001b[39;00m \u001b[38;5;28;01mas\u001b[39;00m e:\n\u001b[0;32m    376\u001b[0m     \u001b[38;5;28;01mraise\u001b[39;00m \u001b[38;5;167;01mValueError\u001b[39;00m(\n\u001b[0;32m    377\u001b[0m         \u001b[38;5;124m'\u001b[39m\u001b[38;5;124mCannot apply_along_axis when any iteration dimensions are 0\u001b[39m\u001b[38;5;124m'\u001b[39m\n\u001b[0;32m    378\u001b[0m     ) \u001b[38;5;28;01mfrom\u001b[39;00m \u001b[38;5;28mNone\u001b[39m\n\u001b[1;32m--> 379\u001b[0m res \u001b[38;5;241m=\u001b[39m asanyarray(func1d(inarr_view[ind0], \u001b[38;5;241m*\u001b[39margs, \u001b[38;5;241m*\u001b[39m\u001b[38;5;241m*\u001b[39mkwargs))\n\u001b[0;32m    381\u001b[0m \u001b[38;5;66;03m# build a buffer for storing evaluations of func1d.\u001b[39;00m\n\u001b[0;32m    382\u001b[0m \u001b[38;5;66;03m# remove the requested axis, and add the new ones on the end.\u001b[39;00m\n\u001b[0;32m    383\u001b[0m \u001b[38;5;66;03m# laid out so that each write is contiguous.\u001b[39;00m\n\u001b[0;32m    384\u001b[0m \u001b[38;5;66;03m# for a tuple index inds, buff[inds] = func1d(inarr_view[inds])\u001b[39;00m\n\u001b[0;32m    385\u001b[0m buff \u001b[38;5;241m=\u001b[39m zeros(inarr_view\u001b[38;5;241m.\u001b[39mshape[:\u001b[38;5;241m-\u001b[39m\u001b[38;5;241m1\u001b[39m] \u001b[38;5;241m+\u001b[39m res\u001b[38;5;241m.\u001b[39mshape, res\u001b[38;5;241m.\u001b[39mdtype)\n",
      "Input \u001b[1;32mIn [74]\u001b[0m, in \u001b[0;36m<lambda>\u001b[1;34m(x)\u001b[0m\n\u001b[0;32m      1\u001b[0m predictions \u001b[38;5;241m=\u001b[39m model\u001b[38;5;241m.\u001b[39mpredict(x_test)\n\u001b[1;32m----> 2\u001b[0m predictions \u001b[38;5;241m=\u001b[39m np\u001b[38;5;241m.\u001b[39mapply_along_axis(\u001b[38;5;28;01mlambda\u001b[39;00m x : \u001b[38;5;28;43mlist\u001b[39;49m\u001b[43m(\u001b[49m\u001b[43mx\u001b[49m\u001b[43m)\u001b[49m\u001b[38;5;241;43m.\u001b[39;49m\u001b[43mindex\u001b[49m\u001b[43m(\u001b[49m\u001b[38;5;28;43mmax\u001b[39;49m\u001b[43m(\u001b[49m\u001b[43mx\u001b[49m\u001b[43m)\u001b[49m\u001b[43m)\u001b[49m,\u001b[38;5;241m1\u001b[39m, predictions)\n\u001b[0;32m      3\u001b[0m predictions\u001b[38;5;241m.\u001b[39mshape\n",
      "\u001b[1;31mValueError\u001b[0m: nan is not in list"
     ]
    }
   ],
   "source": [
    "predictions = model.predict(x_test)\n",
    "predictions = np.apply_along_axis(lambda x : list(x).index(max(x)),1, predictions)\n",
    "predictions.shape"
   ]
  },
  {
   "cell_type": "code",
   "execution_count": null,
   "id": "3705c6bf-3932-484a-97f2-97094d972e32",
   "metadata": {},
   "outputs": [],
   "source": [
    "pd.DataFrame({\n",
    "    \"prediction\" : predictions,\n",
    "    \"actual\" : y_test\n",
    "}).groupby(\"actual\") \\\n",
    "    .apply(lambda x:x[\"prediction\"]==x[\"actual\"]) \\\n",
    "    .groupby(\"actual\") \\\n",
    "    .agg(Accuracy = 'mean') \\\n",
    "    .reset_index() \\\n",
    "    .assign(names=[\n",
    "        \"air_conditioner\",\n",
    "        \"car_horn\",\n",
    "        \"children_playing\",\n",
    "        \"dog_bark\",\n",
    "        \"drilling\",\n",
    "        \"engine_idling\",\n",
    "        \"gun_shot\",\n",
    "        \"jackhammer\",\n",
    "        \"siren\",\n",
    "        \"street_music\"\n",
    "    ])"
   ]
  },
  {
   "cell_type": "code",
   "execution_count": null,
   "id": "77358428-9672-49d9-911c-64d7ed52376d",
   "metadata": {},
   "outputs": [],
   "source": []
  }
 ],
 "metadata": {
  "kernelspec": {
   "display_name": "Python 3 (ipykernel)",
   "language": "python",
   "name": "python3"
  },
  "language_info": {
   "codemirror_mode": {
    "name": "ipython",
    "version": 3
   },
   "file_extension": ".py",
   "mimetype": "text/x-python",
   "name": "python",
   "nbconvert_exporter": "python",
   "pygments_lexer": "ipython3",
   "version": "3.9.12"
  }
 },
 "nbformat": 4,
 "nbformat_minor": 5
}
