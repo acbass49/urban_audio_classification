{
 "cells": [
  {
   "cell_type": "code",
   "execution_count": 31,
   "id": "3b2f511a",
   "metadata": {},
   "outputs": [],
   "source": [
    "import glob\n",
    "import os\n",
    "import librosa\n",
    "import librosa.display\n",
    "import skimage\n",
    "import numpy as np\n",
    "import pandas as pd\n",
    "\n",
    "pd.plotting.register_matplotlib_converters()\n",
    "import matplotlib.pyplot as plt\n",
    "%matplotlib inline\n",
    "import seaborn as sns\n",
    "\n",
    "from sklearn.model_selection import KFold\n",
    "from sklearn.metrics import accuracy_score\n",
    "from sklearn.ensemble import RandomForestClassifier\n",
    "from sklearn.svm import SVC\n",
    "from sklearn.model_selection import train_test_split\n",
    "from sklearn.metrics import confusion_matrix\n",
    "\n",
    "import tensorflow as tf\n",
    "from tensorflow import keras\n",
    "from tensorflow.keras.models import Sequential\n",
    "from tensorflow.keras.layers import Conv2D, Flatten, Dense, MaxPool2D, Dropout\n",
    "from tensorflow.keras.utils import to_categorical \n",
    "\n"
   ]
  },
  {
   "cell_type": "code",
   "execution_count": 13,
   "id": "97ec3b3e",
   "metadata": {},
   "outputs": [
    {
     "data": {
      "text/html": [
       "<div>\n",
       "<style scoped>\n",
       "    .dataframe tbody tr th:only-of-type {\n",
       "        vertical-align: middle;\n",
       "    }\n",
       "\n",
       "    .dataframe tbody tr th {\n",
       "        vertical-align: top;\n",
       "    }\n",
       "\n",
       "    .dataframe thead th {\n",
       "        text-align: right;\n",
       "    }\n",
       "</style>\n",
       "<table border=\"1\" class=\"dataframe\">\n",
       "  <thead>\n",
       "    <tr style=\"text-align: right;\">\n",
       "      <th></th>\n",
       "      <th>slice_file_name</th>\n",
       "      <th>fsID</th>\n",
       "      <th>start</th>\n",
       "      <th>end</th>\n",
       "      <th>salience</th>\n",
       "      <th>fold</th>\n",
       "      <th>classID</th>\n",
       "      <th>class</th>\n",
       "    </tr>\n",
       "  </thead>\n",
       "  <tbody>\n",
       "    <tr>\n",
       "      <th>0</th>\n",
       "      <td>100032-3-0-0.wav</td>\n",
       "      <td>100032</td>\n",
       "      <td>0.000000</td>\n",
       "      <td>0.317551</td>\n",
       "      <td>1</td>\n",
       "      <td>5</td>\n",
       "      <td>3</td>\n",
       "      <td>dog_bark</td>\n",
       "    </tr>\n",
       "    <tr>\n",
       "      <th>1</th>\n",
       "      <td>100263-2-0-117.wav</td>\n",
       "      <td>100263</td>\n",
       "      <td>58.500000</td>\n",
       "      <td>62.500000</td>\n",
       "      <td>1</td>\n",
       "      <td>5</td>\n",
       "      <td>2</td>\n",
       "      <td>children_playing</td>\n",
       "    </tr>\n",
       "    <tr>\n",
       "      <th>2</th>\n",
       "      <td>100263-2-0-121.wav</td>\n",
       "      <td>100263</td>\n",
       "      <td>60.500000</td>\n",
       "      <td>64.500000</td>\n",
       "      <td>1</td>\n",
       "      <td>5</td>\n",
       "      <td>2</td>\n",
       "      <td>children_playing</td>\n",
       "    </tr>\n",
       "    <tr>\n",
       "      <th>3</th>\n",
       "      <td>100263-2-0-126.wav</td>\n",
       "      <td>100263</td>\n",
       "      <td>63.000000</td>\n",
       "      <td>67.000000</td>\n",
       "      <td>1</td>\n",
       "      <td>5</td>\n",
       "      <td>2</td>\n",
       "      <td>children_playing</td>\n",
       "    </tr>\n",
       "    <tr>\n",
       "      <th>4</th>\n",
       "      <td>100263-2-0-137.wav</td>\n",
       "      <td>100263</td>\n",
       "      <td>68.500000</td>\n",
       "      <td>72.500000</td>\n",
       "      <td>1</td>\n",
       "      <td>5</td>\n",
       "      <td>2</td>\n",
       "      <td>children_playing</td>\n",
       "    </tr>\n",
       "    <tr>\n",
       "      <th>...</th>\n",
       "      <td>...</td>\n",
       "      <td>...</td>\n",
       "      <td>...</td>\n",
       "      <td>...</td>\n",
       "      <td>...</td>\n",
       "      <td>...</td>\n",
       "      <td>...</td>\n",
       "      <td>...</td>\n",
       "    </tr>\n",
       "    <tr>\n",
       "      <th>8727</th>\n",
       "      <td>99812-1-2-0.wav</td>\n",
       "      <td>99812</td>\n",
       "      <td>159.522205</td>\n",
       "      <td>163.522205</td>\n",
       "      <td>2</td>\n",
       "      <td>7</td>\n",
       "      <td>1</td>\n",
       "      <td>car_horn</td>\n",
       "    </tr>\n",
       "    <tr>\n",
       "      <th>8728</th>\n",
       "      <td>99812-1-3-0.wav</td>\n",
       "      <td>99812</td>\n",
       "      <td>181.142431</td>\n",
       "      <td>183.284976</td>\n",
       "      <td>2</td>\n",
       "      <td>7</td>\n",
       "      <td>1</td>\n",
       "      <td>car_horn</td>\n",
       "    </tr>\n",
       "    <tr>\n",
       "      <th>8729</th>\n",
       "      <td>99812-1-4-0.wav</td>\n",
       "      <td>99812</td>\n",
       "      <td>242.691902</td>\n",
       "      <td>246.197885</td>\n",
       "      <td>2</td>\n",
       "      <td>7</td>\n",
       "      <td>1</td>\n",
       "      <td>car_horn</td>\n",
       "    </tr>\n",
       "    <tr>\n",
       "      <th>8730</th>\n",
       "      <td>99812-1-5-0.wav</td>\n",
       "      <td>99812</td>\n",
       "      <td>253.209850</td>\n",
       "      <td>255.741948</td>\n",
       "      <td>2</td>\n",
       "      <td>7</td>\n",
       "      <td>1</td>\n",
       "      <td>car_horn</td>\n",
       "    </tr>\n",
       "    <tr>\n",
       "      <th>8731</th>\n",
       "      <td>99812-1-6-0.wav</td>\n",
       "      <td>99812</td>\n",
       "      <td>332.289233</td>\n",
       "      <td>334.821332</td>\n",
       "      <td>2</td>\n",
       "      <td>7</td>\n",
       "      <td>1</td>\n",
       "      <td>car_horn</td>\n",
       "    </tr>\n",
       "  </tbody>\n",
       "</table>\n",
       "<p>8732 rows × 8 columns</p>\n",
       "</div>"
      ],
      "text/plain": [
       "         slice_file_name    fsID       start         end  salience  fold  \\\n",
       "0       100032-3-0-0.wav  100032    0.000000    0.317551         1     5   \n",
       "1     100263-2-0-117.wav  100263   58.500000   62.500000         1     5   \n",
       "2     100263-2-0-121.wav  100263   60.500000   64.500000         1     5   \n",
       "3     100263-2-0-126.wav  100263   63.000000   67.000000         1     5   \n",
       "4     100263-2-0-137.wav  100263   68.500000   72.500000         1     5   \n",
       "...                  ...     ...         ...         ...       ...   ...   \n",
       "8727     99812-1-2-0.wav   99812  159.522205  163.522205         2     7   \n",
       "8728     99812-1-3-0.wav   99812  181.142431  183.284976         2     7   \n",
       "8729     99812-1-4-0.wav   99812  242.691902  246.197885         2     7   \n",
       "8730     99812-1-5-0.wav   99812  253.209850  255.741948         2     7   \n",
       "8731     99812-1-6-0.wav   99812  332.289233  334.821332         2     7   \n",
       "\n",
       "      classID             class  \n",
       "0           3          dog_bark  \n",
       "1           2  children_playing  \n",
       "2           2  children_playing  \n",
       "3           2  children_playing  \n",
       "4           2  children_playing  \n",
       "...       ...               ...  \n",
       "8727        1          car_horn  \n",
       "8728        1          car_horn  \n",
       "8729        1          car_horn  \n",
       "8730        1          car_horn  \n",
       "8731        1          car_horn  \n",
       "\n",
       "[8732 rows x 8 columns]"
      ]
     },
     "execution_count": 13,
     "metadata": {},
     "output_type": "execute_result"
    }
   ],
   "source": [
    "metadata = pd.read_csv(\"UrbanSound8k/metadata/UrbanSound8K.csv\")\n",
    "metadata"
   ]
  },
  {
   "cell_type": "code",
   "execution_count": 18,
   "id": "80cd1001",
   "metadata": {},
   "outputs": [
    {
     "data": {
      "image/png": "[encoded data removed]",
      "text/plain": [
       "<Figure size 720x360 with 2 Axes>"
      ]
     },
     "metadata": {
      "needs_background": "light"
     },
     "output_type": "display_data"
    },
    {
     "data": {
      "image/png": "[encoded data removed]",
      "text/plain": [
       "<Figure size 720x360 with 2 Axes>"
      ]
     },
     "metadata": {
      "needs_background": "light"
     },
     "output_type": "display_data"
    },
    {
     "data": {
      "image/png": "[encoded data removed]",
      "text/plain": [
       "<Figure size 720x360 with 2 Axes>"
      ]
     },
     "metadata": {
      "needs_background": "light"
     },
     "output_type": "display_data"
    }
   ],
   "source": [
    "arr = np.array(metadata[\"slice_file_name\"])\n",
    "fold = np.array(metadata[\"fold\"])\n",
    "cla = np.array(metadata[\"class\"])\n",
    "\n",
    "for i in range(192, 197, 2):\n",
    "    path = 'UrbanSound8k/audio/fold' + str(fold[i]) + '/' + arr[i]\n",
    "    data, sampling_rate = librosa.load(path)\n",
    "    plt.figure(figsize=(10, 5))\n",
    "    D = librosa.amplitude_to_db(np.abs(librosa.stft(data)), ref=np.max)\n",
    "    plt.subplot(4, 2, 1)\n",
    "    librosa.display.specshow(D, y_axis='linear')\n",
    "    plt.colorbar(format='%+2.0f dB')\n",
    "    plt.title(cla[i])"
   ]
  },
  {
   "cell_type": "code",
   "execution_count": 22,
   "id": "8b3ee4a0",
   "metadata": {},
   "outputs": [],
   "source": [
    "feature = []\n",
    "label = []\n",
    "\n",
    "def parser(row):\n",
    "    # Function to load files and extract features\n",
    "    for i in range(8732):\n",
    "        file_name = 'UrbanSound8k/audio/fold' + str(metadata[\"fold\"][i]) + '/' + metadata[\"slice_file_name\"][i]\n",
    "        # Here kaiser_fast is a technique used for faster extraction\n",
    "        X, sample_rate = librosa.load(file_name, res_type='kaiser_fast') \n",
    "        # We extract mfcc feature from data\n",
    "        mels = np.mean(librosa.feature.melspectrogram(y=X, sr=sample_rate).T,axis=0)        \n",
    "        feature.append(mels)\n",
    "        label.append(metadata[\"classID\"][i])\n",
    "    return [feature, label]"
   ]
  },
  {
   "cell_type": "code",
   "execution_count": 59,
   "id": "c4c21e67",
   "metadata": {},
   "outputs": [
    {
     "name": "stderr",
     "output_type": "stream",
     "text": [
      "C:\\Users\\Chris\\anaconda3\\lib\\site-packages\\librosa\\util\\decorators.py:88: UserWarning: n_fft=2048 is too small for input signal of length=1323\n",
      "  return f(*args, **kwargs)\n",
      "C:\\Users\\Chris\\anaconda3\\lib\\site-packages\\librosa\\util\\decorators.py:88: UserWarning: n_fft=2048 is too small for input signal of length=1103\n",
      "  return f(*args, **kwargs)\n",
      "C:\\Users\\Chris\\anaconda3\\lib\\site-packages\\librosa\\util\\decorators.py:88: UserWarning: n_fft=2048 is too small for input signal of length=1523\n",
      "  return f(*args, **kwargs)\n",
      "<ipython-input-59-0fabb63ec721>:2: VisibleDeprecationWarning: Creating an ndarray from ragged nested sequences (which is a list-or-tuple of lists-or-tuples-or ndarrays with different lengths or shapes) is deprecated. If you meant to do this, you must specify 'dtype=object' when creating the ndarray.\n",
      "  temp = np.array(temp)\n"
     ]
    }
   ],
   "source": [
    "temp = parser(metadata)\n",
    "temp = np.array(temp)\n",
    "data = temp.transpose()"
   ]
  },
  {
   "cell_type": "code",
   "execution_count": 54,
   "id": "0f420f45",
   "metadata": {},
   "outputs": [],
   "source": [
    "data1 = pd.DataFrame(data)\n",
    "data1 = data1.rename(columns={0: \"MFCC\", 1: \"Fold\"})\n",
    "data1 = data1.sort_values(by=['Fold'])\n",
    "data1.to_csv('UrbanSound8k_MFCC.csv')"
   ]
  },
  {
   "cell_type": "code",
   "execution_count": 60,
   "id": "94163084",
   "metadata": {},
   "outputs": [
    {
     "name": "stdout",
     "output_type": "stream",
     "text": [
      "(17464,) (17464,)\n"
     ]
    }
   ],
   "source": [
    "X_ = data[:, 0]\n",
    "Y = data[:, 1]\n",
    "print(X_.shape, Y.shape)\n",
    "X = np.empty([8732, 128])"
   ]
  },
  {
   "cell_type": "code",
   "execution_count": 25,
   "id": "7d40f235",
   "metadata": {},
   "outputs": [],
   "source": [
    "for i in range(8732):\n",
    "    X[i] = (X_[i])"
   ]
  },
  {
   "cell_type": "code",
   "execution_count": 26,
   "id": "44488cb7",
   "metadata": {},
   "outputs": [],
   "source": [
    "Y = to_categorical(Y)"
   ]
  },
  {
   "cell_type": "code",
   "execution_count": 32,
   "id": "74efb647",
   "metadata": {},
   "outputs": [],
   "source": [
    "X_train, X_test, Y_train, Y_test = train_test_split(X, Y, random_state = 1)"
   ]
  },
  {
   "cell_type": "code",
   "execution_count": 35,
   "id": "8c5c84a1",
   "metadata": {},
   "outputs": [],
   "source": [
    "X_train = X_train.reshape(6549, 16, 8, 1)\n",
    "X_test = X_test.reshape(2183, 16, 8, 1)\n",
    "input_dim = (16, 8, 1)"
   ]
  },
  {
   "cell_type": "code",
   "execution_count": 36,
   "id": "acf4f85d",
   "metadata": {},
   "outputs": [],
   "source": [
    "model = Sequential()\n",
    "model.add(Conv2D(64, (3, 3), padding = \"same\", activation = \"tanh\", input_shape = input_dim))\n",
    "model.add(MaxPool2D(pool_size=(2, 2)))\n",
    "model.add(Conv2D(128, (3, 3), padding = \"same\", activation = \"tanh\"))\n",
    "model.add(MaxPool2D(pool_size=(2, 2)))\n",
    "model.add(Dropout(0.1))\n",
    "model.add(Flatten())\n",
    "model.add(Dense(1024, activation = \"tanh\"))\n",
    "model.add(Dense(10, activation = \"softmax\"))"
   ]
  },
  {
   "cell_type": "code",
   "execution_count": 37,
   "id": "972b92fe",
   "metadata": {},
   "outputs": [],
   "source": [
    "model.compile(optimizer = 'adam', loss = 'categorical_crossentropy', metrics = ['accuracy'])"
   ]
  },
  {
   "cell_type": "code",
   "execution_count": 38,
   "id": "0865c37c",
   "metadata": {},
   "outputs": [
    {
     "name": "stdout",
     "output_type": "stream",
     "text": [
      "Epoch 1/90\n",
      "131/131 [==============================] - 3s 15ms/step - loss: 1.5214 - accuracy: 0.4804 - val_loss: 1.2752 - val_accuracy: 0.5754\n",
      "Epoch 2/90\n",
      "131/131 [==============================] - 2s 13ms/step - loss: 1.1331 - accuracy: 0.6209 - val_loss: 1.1617 - val_accuracy: 0.6290\n",
      "Epoch 3/90\n",
      "131/131 [==============================] - 2s 13ms/step - loss: 0.9556 - accuracy: 0.6760 - val_loss: 1.1040 - val_accuracy: 0.6436\n",
      "Epoch 4/90\n",
      "131/131 [==============================] - 2s 13ms/step - loss: 0.8653 - accuracy: 0.7125 - val_loss: 0.9514 - val_accuracy: 0.7100\n",
      "Epoch 5/90\n",
      "131/131 [==============================] - 2s 13ms/step - loss: 0.7515 - accuracy: 0.7490 - val_loss: 0.9412 - val_accuracy: 0.7155\n",
      "Epoch 6/90\n",
      "131/131 [==============================] - 2s 16ms/step - loss: 0.6618 - accuracy: 0.7838 - val_loss: 0.9058 - val_accuracy: 0.7306\n",
      "Epoch 7/90\n",
      "131/131 [==============================] - 2s 14ms/step - loss: 0.6495 - accuracy: 0.7838 - val_loss: 0.9175 - val_accuracy: 0.7311\n",
      "Epoch 8/90\n",
      "131/131 [==============================] - 2s 15ms/step - loss: 0.5893 - accuracy: 0.8047 - val_loss: 0.8902 - val_accuracy: 0.7453\n",
      "Epoch 9/90\n",
      "131/131 [==============================] - 2s 13ms/step - loss: 0.5247 - accuracy: 0.8226 - val_loss: 0.8675 - val_accuracy: 0.7435\n",
      "Epoch 10/90\n",
      "131/131 [==============================] - 2s 13ms/step - loss: 0.5197 - accuracy: 0.8293 - val_loss: 0.8713 - val_accuracy: 0.7609\n",
      "Epoch 11/90\n",
      "131/131 [==============================] - 2s 13ms/step - loss: 0.4676 - accuracy: 0.8447 - val_loss: 0.9184 - val_accuracy: 0.7490\n",
      "Epoch 12/90\n",
      "131/131 [==============================] - 2s 13ms/step - loss: 0.4391 - accuracy: 0.8545 - val_loss: 0.9488 - val_accuracy: 0.7590\n",
      "Epoch 13/90\n",
      "131/131 [==============================] - 2s 15ms/step - loss: 0.4215 - accuracy: 0.8575 - val_loss: 0.8364 - val_accuracy: 0.7852\n",
      "Epoch 14/90\n",
      "131/131 [==============================] - 2s 14ms/step - loss: 0.3915 - accuracy: 0.8702 - val_loss: 0.8243 - val_accuracy: 0.7815\n",
      "Epoch 15/90\n",
      "131/131 [==============================] - 2s 13ms/step - loss: 0.3723 - accuracy: 0.8766 - val_loss: 0.8587 - val_accuracy: 0.7852\n",
      "Epoch 16/90\n",
      "131/131 [==============================] - 2s 14ms/step - loss: 0.3538 - accuracy: 0.8817 - val_loss: 0.8290 - val_accuracy: 0.7861\n",
      "Epoch 17/90\n",
      "131/131 [==============================] - 2s 13ms/step - loss: 0.3747 - accuracy: 0.8780 - val_loss: 0.7884 - val_accuracy: 0.7902\n",
      "Epoch 18/90\n",
      "131/131 [==============================] - 2s 13ms/step - loss: 0.3345 - accuracy: 0.8908 - val_loss: 0.8074 - val_accuracy: 0.7829\n",
      "Epoch 19/90\n",
      "131/131 [==============================] - 2s 13ms/step - loss: 0.2981 - accuracy: 0.9003 - val_loss: 0.8209 - val_accuracy: 0.7962\n",
      "Epoch 20/90\n",
      "131/131 [==============================] - 2s 13ms/step - loss: 0.2871 - accuracy: 0.9021 - val_loss: 0.7772 - val_accuracy: 0.8090\n",
      "Epoch 21/90\n",
      "131/131 [==============================] - 2s 16ms/step - loss: 0.2869 - accuracy: 0.9024 - val_loss: 0.8490 - val_accuracy: 0.8012\n",
      "Epoch 22/90\n",
      "131/131 [==============================] - 2s 16ms/step - loss: 0.2839 - accuracy: 0.9117 - val_loss: 0.7962 - val_accuracy: 0.8117\n",
      "Epoch 23/90\n",
      "131/131 [==============================] - 2s 15ms/step - loss: 0.2599 - accuracy: 0.9139 - val_loss: 0.8244 - val_accuracy: 0.8026\n",
      "Epoch 24/90\n",
      "131/131 [==============================] - 2s 13ms/step - loss: 0.2456 - accuracy: 0.9200 - val_loss: 0.7515 - val_accuracy: 0.8268\n",
      "Epoch 25/90\n",
      "131/131 [==============================] - 2s 13ms/step - loss: 0.2419 - accuracy: 0.9209 - val_loss: 0.7695 - val_accuracy: 0.8122\n",
      "Epoch 26/90\n",
      "131/131 [==============================] - 2s 14ms/step - loss: 0.2141 - accuracy: 0.9298 - val_loss: 0.7874 - val_accuracy: 0.8136\n",
      "Epoch 27/90\n",
      "131/131 [==============================] - 2s 14ms/step - loss: 0.2203 - accuracy: 0.9288 - val_loss: 0.7790 - val_accuracy: 0.8163\n",
      "Epoch 28/90\n",
      "131/131 [==============================] - 2s 13ms/step - loss: 0.2170 - accuracy: 0.9293 - val_loss: 0.7787 - val_accuracy: 0.8305\n",
      "Epoch 29/90\n",
      "131/131 [==============================] - 2s 14ms/step - loss: 0.1906 - accuracy: 0.9357 - val_loss: 0.7509 - val_accuracy: 0.8218\n",
      "Epoch 30/90\n",
      "131/131 [==============================] - 2s 14ms/step - loss: 0.1872 - accuracy: 0.9372 - val_loss: 0.8477 - val_accuracy: 0.8172\n",
      "Epoch 31/90\n",
      "131/131 [==============================] - 2s 14ms/step - loss: 0.2166 - accuracy: 0.9259 - val_loss: 0.8166 - val_accuracy: 0.8301\n",
      "Epoch 32/90\n",
      "131/131 [==============================] - 2s 15ms/step - loss: 0.1822 - accuracy: 0.9372 - val_loss: 0.8123 - val_accuracy: 0.8255\n",
      "Epoch 33/90\n",
      "131/131 [==============================] - 2s 14ms/step - loss: 0.2079 - accuracy: 0.9317 - val_loss: 0.8480 - val_accuracy: 0.8191\n",
      "Epoch 34/90\n",
      "131/131 [==============================] - 2s 14ms/step - loss: 0.1833 - accuracy: 0.9414 - val_loss: 0.7297 - val_accuracy: 0.8410\n",
      "Epoch 35/90\n",
      "131/131 [==============================] - 2s 14ms/step - loss: 0.1681 - accuracy: 0.9435 - val_loss: 0.8640 - val_accuracy: 0.8209\n",
      "Epoch 36/90\n",
      "131/131 [==============================] - 2s 13ms/step - loss: 0.1595 - accuracy: 0.9466 - val_loss: 0.8300 - val_accuracy: 0.8383\n",
      "Epoch 37/90\n",
      "131/131 [==============================] - 2s 13ms/step - loss: 0.1581 - accuracy: 0.9472 - val_loss: 0.8369 - val_accuracy: 0.8287\n",
      "Epoch 38/90\n",
      "131/131 [==============================] - 2s 13ms/step - loss: 0.1539 - accuracy: 0.9476 - val_loss: 0.7798 - val_accuracy: 0.8337\n",
      "Epoch 39/90\n",
      "131/131 [==============================] - 2s 13ms/step - loss: 0.1417 - accuracy: 0.9517 - val_loss: 0.8761 - val_accuracy: 0.8310\n",
      "Epoch 40/90\n",
      "131/131 [==============================] - 2s 15ms/step - loss: 0.1608 - accuracy: 0.9475 - val_loss: 0.7384 - val_accuracy: 0.8383\n",
      "Epoch 41/90\n",
      "131/131 [==============================] - 2s 14ms/step - loss: 0.1394 - accuracy: 0.9510 - val_loss: 0.7853 - val_accuracy: 0.8465\n",
      "Epoch 42/90\n",
      "131/131 [==============================] - 2s 15ms/step - loss: 0.1283 - accuracy: 0.9572 - val_loss: 0.8471 - val_accuracy: 0.8310\n",
      "Epoch 43/90\n",
      "131/131 [==============================] - 2s 15ms/step - loss: 0.1284 - accuracy: 0.9572 - val_loss: 0.8101 - val_accuracy: 0.8452\n",
      "Epoch 44/90\n",
      "131/131 [==============================] - 2s 15ms/step - loss: 0.1341 - accuracy: 0.9557 - val_loss: 0.7940 - val_accuracy: 0.8388\n",
      "Epoch 45/90\n",
      "131/131 [==============================] - 2s 15ms/step - loss: 0.1248 - accuracy: 0.9580 - val_loss: 0.7766 - val_accuracy: 0.8479\n",
      "Epoch 46/90\n",
      "131/131 [==============================] - 2s 16ms/step - loss: 0.1433 - accuracy: 0.9528 - val_loss: 0.9605 - val_accuracy: 0.8273\n",
      "Epoch 47/90\n",
      "131/131 [==============================] - 2s 14ms/step - loss: 0.1134 - accuracy: 0.9618 - val_loss: 0.8441 - val_accuracy: 0.8397\n",
      "Epoch 48/90\n",
      "131/131 [==============================] - 2s 14ms/step - loss: 0.1418 - accuracy: 0.9516 - val_loss: 0.8930 - val_accuracy: 0.8323\n",
      "Epoch 49/90\n",
      "131/131 [==============================] - 2s 13ms/step - loss: 0.1220 - accuracy: 0.9579 - val_loss: 0.8370 - val_accuracy: 0.8369\n",
      "Epoch 50/90\n",
      "131/131 [==============================] - 2s 14ms/step - loss: 0.1060 - accuracy: 0.9649 - val_loss: 0.7729 - val_accuracy: 0.8484\n",
      "Epoch 51/90\n",
      "131/131 [==============================] - 2s 13ms/step - loss: 0.1137 - accuracy: 0.9626 - val_loss: 0.7708 - val_accuracy: 0.8479\n",
      "Epoch 52/90\n",
      "131/131 [==============================] - 2s 13ms/step - loss: 0.1063 - accuracy: 0.9652 - val_loss: 0.7575 - val_accuracy: 0.8479\n",
      "Epoch 53/90\n",
      "131/131 [==============================] - 2s 13ms/step - loss: 0.0923 - accuracy: 0.9670 - val_loss: 0.8398 - val_accuracy: 0.8429\n",
      "Epoch 54/90\n",
      "131/131 [==============================] - 2s 14ms/step - loss: 0.0954 - accuracy: 0.9670 - val_loss: 0.8519 - val_accuracy: 0.8360\n",
      "Epoch 55/90\n",
      "131/131 [==============================] - 2s 13ms/step - loss: 0.1231 - accuracy: 0.9611 - val_loss: 0.8371 - val_accuracy: 0.8507\n",
      "Epoch 56/90\n",
      "131/131 [==============================] - 2s 14ms/step - loss: 0.1149 - accuracy: 0.9617 - val_loss: 0.8552 - val_accuracy: 0.8456\n",
      "Epoch 57/90\n",
      "131/131 [==============================] - 2s 14ms/step - loss: 0.0874 - accuracy: 0.9698 - val_loss: 0.7454 - val_accuracy: 0.8589\n"
     ]
    },
    {
     "name": "stdout",
     "output_type": "stream",
     "text": [
      "Epoch 58/90\n",
      "131/131 [==============================] - 2s 16ms/step - loss: 0.0847 - accuracy: 0.9696 - val_loss: 0.8077 - val_accuracy: 0.8548\n",
      "Epoch 59/90\n",
      "131/131 [==============================] - 2s 14ms/step - loss: 0.0748 - accuracy: 0.9748 - val_loss: 0.8487 - val_accuracy: 0.8612\n",
      "Epoch 60/90\n",
      "131/131 [==============================] - 2s 14ms/step - loss: 0.0810 - accuracy: 0.9736 - val_loss: 0.7553 - val_accuracy: 0.8649\n",
      "Epoch 61/90\n",
      "131/131 [==============================] - 2s 14ms/step - loss: 0.0769 - accuracy: 0.9747 - val_loss: 0.7693 - val_accuracy: 0.8571\n",
      "Epoch 62/90\n",
      "131/131 [==============================] - 2s 14ms/step - loss: 0.0834 - accuracy: 0.9725 - val_loss: 0.8275 - val_accuracy: 0.8516\n",
      "Epoch 63/90\n",
      "131/131 [==============================] - 2s 17ms/step - loss: 0.0830 - accuracy: 0.9713 - val_loss: 0.8672 - val_accuracy: 0.8475\n",
      "Epoch 64/90\n",
      "131/131 [==============================] - 2s 15ms/step - loss: 0.0884 - accuracy: 0.9698 - val_loss: 0.9000 - val_accuracy: 0.8456\n",
      "Epoch 65/90\n",
      "131/131 [==============================] - 2s 15ms/step - loss: 0.0971 - accuracy: 0.9669 - val_loss: 0.9065 - val_accuracy: 0.8493\n",
      "Epoch 66/90\n",
      "131/131 [==============================] - 2s 13ms/step - loss: 0.1039 - accuracy: 0.9664 - val_loss: 0.9627 - val_accuracy: 0.8218\n",
      "Epoch 67/90\n",
      "131/131 [==============================] - 2s 13ms/step - loss: 0.0983 - accuracy: 0.9681 - val_loss: 0.7458 - val_accuracy: 0.8617\n",
      "Epoch 68/90\n",
      "131/131 [==============================] - 2s 15ms/step - loss: 0.0771 - accuracy: 0.9728 - val_loss: 0.7736 - val_accuracy: 0.8575\n",
      "Epoch 69/90\n",
      "131/131 [==============================] - 2s 14ms/step - loss: 0.0741 - accuracy: 0.9739 - val_loss: 0.7944 - val_accuracy: 0.8507\n",
      "Epoch 70/90\n",
      "131/131 [==============================] - 2s 13ms/step - loss: 0.0700 - accuracy: 0.9737 - val_loss: 0.8178 - val_accuracy: 0.8552\n",
      "Epoch 71/90\n",
      "131/131 [==============================] - 2s 14ms/step - loss: 0.0626 - accuracy: 0.9776 - val_loss: 0.7326 - val_accuracy: 0.8667\n",
      "Epoch 72/90\n",
      "131/131 [==============================] - 2s 16ms/step - loss: 0.0570 - accuracy: 0.9811 - val_loss: 0.7973 - val_accuracy: 0.8621\n",
      "Epoch 73/90\n",
      "131/131 [==============================] - 2s 15ms/step - loss: 0.0605 - accuracy: 0.9789 - val_loss: 0.7920 - val_accuracy: 0.8607\n",
      "Epoch 74/90\n",
      "131/131 [==============================] - 2s 16ms/step - loss: 0.0604 - accuracy: 0.9779 - val_loss: 0.8361 - val_accuracy: 0.8575\n",
      "Epoch 75/90\n",
      "131/131 [==============================] - 2s 16ms/step - loss: 0.0564 - accuracy: 0.9811 - val_loss: 0.8596 - val_accuracy: 0.8557\n",
      "Epoch 76/90\n",
      "131/131 [==============================] - 2s 13ms/step - loss: 0.0609 - accuracy: 0.9777 - val_loss: 0.7988 - val_accuracy: 0.8603\n",
      "Epoch 77/90\n",
      "131/131 [==============================] - 2s 15ms/step - loss: 0.0634 - accuracy: 0.9782 - val_loss: 0.8624 - val_accuracy: 0.8603\n",
      "Epoch 78/90\n",
      "131/131 [==============================] - 2s 15ms/step - loss: 0.0895 - accuracy: 0.9699 - val_loss: 0.8910 - val_accuracy: 0.8497\n",
      "Epoch 79/90\n",
      "131/131 [==============================] - 2s 14ms/step - loss: 0.0795 - accuracy: 0.9736 - val_loss: 1.0394 - val_accuracy: 0.8420\n",
      "Epoch 80/90\n",
      "131/131 [==============================] - 2s 14ms/step - loss: 0.0761 - accuracy: 0.9747 - val_loss: 0.8314 - val_accuracy: 0.8589\n",
      "Epoch 81/90\n",
      "131/131 [==============================] - 2s 14ms/step - loss: 0.0571 - accuracy: 0.9805 - val_loss: 0.8364 - val_accuracy: 0.8594\n",
      "Epoch 82/90\n",
      "131/131 [==============================] - 2s 14ms/step - loss: 0.0577 - accuracy: 0.9792 - val_loss: 0.8913 - val_accuracy: 0.8497\n",
      "Epoch 83/90\n",
      "131/131 [==============================] - 2s 13ms/step - loss: 0.0549 - accuracy: 0.9818 - val_loss: 0.8192 - val_accuracy: 0.8653\n",
      "Epoch 84/90\n",
      "131/131 [==============================] - 2s 14ms/step - loss: 0.0617 - accuracy: 0.9795 - val_loss: 0.8729 - val_accuracy: 0.8511\n",
      "Epoch 85/90\n",
      "131/131 [==============================] - 2s 14ms/step - loss: 0.0553 - accuracy: 0.9827 - val_loss: 0.8389 - val_accuracy: 0.8585\n",
      "Epoch 86/90\n",
      "131/131 [==============================] - 2s 14ms/step - loss: 0.0499 - accuracy: 0.9827 - val_loss: 0.9361 - val_accuracy: 0.8530\n",
      "Epoch 87/90\n",
      "131/131 [==============================] - 2s 14ms/step - loss: 0.0424 - accuracy: 0.9844 - val_loss: 0.8740 - val_accuracy: 0.8575\n",
      "Epoch 88/90\n",
      "131/131 [==============================] - 2s 14ms/step - loss: 0.0546 - accuracy: 0.9797 - val_loss: 0.8865 - val_accuracy: 0.8667\n",
      "Epoch 89/90\n",
      "131/131 [==============================] - 2s 13ms/step - loss: 0.0577 - accuracy: 0.9812 - val_loss: 0.9315 - val_accuracy: 0.8617\n",
      "Epoch 90/90\n",
      "131/131 [==============================] - 2s 16ms/step - loss: 0.0729 - accuracy: 0.9759 - val_loss: 0.9449 - val_accuracy: 0.8525\n"
     ]
    },
    {
     "data": {
      "text/plain": [
       "<keras.callbacks.History at 0x1ef50b92ee0>"
      ]
     },
     "execution_count": 38,
     "metadata": {},
     "output_type": "execute_result"
    }
   ],
   "source": [
    "model.fit(X_train, Y_train, epochs = 90, batch_size = 50, validation_data = (X_test, Y_test))"
   ]
  },
  {
   "cell_type": "code",
   "execution_count": 55,
   "id": "dcb17fb2",
   "metadata": {},
   "outputs": [
    {
     "name": "stdout",
     "output_type": "stream",
     "text": [
      "69/69 [==============================] - 0s 4ms/step\n",
      "69/69 [==============================] - 0s 5ms/step - loss: 0.9449 - accuracy: 0.8525\n",
      "[0.9449069499969482, 0.8524965643882751]\n"
     ]
    }
   ],
   "source": [
    "predictions = model.predict(X_test)\n",
    "score = model.evaluate(X_test, Y_test)\n",
    "print(score)"
   ]
  },
  {
   "cell_type": "code",
   "execution_count": 56,
   "id": "91f70caa",
   "metadata": {},
   "outputs": [],
   "source": [
    "preds = np.argmax(predictions, axis = 1)"
   ]
  },
  {
   "cell_type": "code",
   "execution_count": 57,
   "id": "3ccc5cd0",
   "metadata": {},
   "outputs": [
    {
     "data": {
      "text/plain": [
       "array([2, 8, 8, ..., 2, 4, 3], dtype=int64)"
      ]
     },
     "execution_count": 57,
     "metadata": {},
     "output_type": "execute_result"
    }
   ],
   "source": [
    "preds"
   ]
  },
  {
   "cell_type": "code",
   "execution_count": null,
   "id": "f895517c",
   "metadata": {},
   "outputs": [],
   "source": []
  }
 ],
 "metadata": {
  "kernelspec": {
   "display_name": "Python 3.11.0 64-bit",
   "language": "python",
   "name": "python3"
  },
  "language_info": {
   "codemirror_mode": {
    "name": "ipython",
    "version": 3
   },
   "file_extension": ".py",
   "mimetype": "text/x-python",
   "name": "python",
   "nbconvert_exporter": "python",
   "pygments_lexer": "ipython3",
   "version": "3.11.0"
  },
  "vscode": {
   "interpreter": {
    "hash": "aee8b7b246df8f9039afb4144a1f6fd8d2ca17a180786b69acc140d282b71a49"
   }
  }
 },
 "nbformat": 4,
 "nbformat_minor": 5
}
